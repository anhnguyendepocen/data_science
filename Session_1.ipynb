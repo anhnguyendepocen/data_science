{
 "cells": [
  {
   "cell_type": "markdown",
   "metadata": {},
   "source": [
    "# Intro"
   ]
  },
  {
   "cell_type": "markdown",
   "metadata": {},
   "source": [
    "Open source project started by Guido van Rossum in 1991.\n",
    "\n",
    "Computers are cheap, your time is expensive!\n",
    "\n",
    "Data scientists spend 50-80 percent of their time preparing data.\n",
    "\n",
    "\"Premature optimization is the root of all evil\" -- Donald Knuth, inventor of LaTeX, and many other things\n",
    "\n",
    "Huge and expanding ecosystem of packages for wide variety of tasks\n",
    "\n",
    "Part of the culture to provide usable examples rather than just lengthy documentation\n",
    "\n",
    "Big on \"idioms\" and doing things \"Pythonically\"\n",
    "\n",
    "Duck Typing! If it walks like a duck and quacks like a duck, then... treat it like a duck"
   ]
  },
  {
   "cell_type": "markdown",
   "metadata": {},
   "source": [
    "# Python Basics"
   ]
  },
  {
   "cell_type": "markdown",
   "metadata": {},
   "source": [
    "## Printing"
   ]
  },
  {
   "cell_type": "code",
   "execution_count": 4,
   "metadata": {},
   "outputs": [
    {
     "name": "stdout",
     "output_type": "stream",
     "text": [
      "Hello World!\n"
     ]
    }
   ],
   "source": [
    "print('Hello World!')"
   ]
  },
  {
   "cell_type": "code",
   "execution_count": 11,
   "metadata": {},
   "outputs": [
    {
     "name": "stdout",
     "output_type": "stream",
     "text": [
      "5\n"
     ]
    }
   ],
   "source": [
    "print(5)"
   ]
  },
  {
   "cell_type": "code",
   "execution_count": 10,
   "metadata": {},
   "outputs": [
    {
     "name": "stdout",
     "output_type": "stream",
     "text": [
      "5 6 foo\n"
     ]
    }
   ],
   "source": [
    "print(5, 6, 'foo')"
   ]
  },
  {
   "cell_type": "code",
   "execution_count": 9,
   "metadata": {},
   "outputs": [
    {
     "data": {
      "text/plain": [
       "'hi'"
      ]
     },
     "execution_count": 9,
     "metadata": {},
     "output_type": "execute_result"
    }
   ],
   "source": [
    "'hi' # by default outputs last line of cell"
   ]
  },
  {
   "cell_type": "markdown",
   "metadata": {},
   "source": [
    "## Builtin Types"
   ]
  },
  {
   "cell_type": "markdown",
   "metadata": {},
   "source": [
    "### Tuples (tuple)"
   ]
  },
  {
   "cell_type": "code",
   "execution_count": 15,
   "metadata": {},
   "outputs": [
    {
     "data": {
      "text/plain": [
       "(1, 2)"
      ]
     },
     "execution_count": 15,
     "metadata": {},
     "output_type": "execute_result"
    }
   ],
   "source": [
    "a = (1, 2)\n",
    "a"
   ]
  },
  {
   "cell_type": "code",
   "execution_count": 18,
   "metadata": {},
   "outputs": [
    {
     "name": "stdout",
     "output_type": "stream",
     "text": [
      "1\n",
      "2\n"
     ]
    }
   ],
   "source": [
    "b, c = a # this is called \"unpacking\"\n",
    "print(b)\n",
    "print(c)"
   ]
  },
  {
   "cell_type": "markdown",
   "metadata": {},
   "source": [
    "### Lists (list)"
   ]
  },
  {
   "cell_type": "code",
   "execution_count": 22,
   "metadata": {},
   "outputs": [
    {
     "name": "stdout",
     "output_type": "stream",
     "text": [
      "[1, 2, 3]\n"
     ]
    }
   ],
   "source": [
    "a = [1, 2, 3]\n",
    "print(a)"
   ]
  },
  {
   "cell_type": "code",
   "execution_count": 23,
   "metadata": {},
   "outputs": [
    {
     "name": "stdout",
     "output_type": "stream",
     "text": [
      "[1, 2, 3, 5, 6, 7]\n",
      "[1, 2, 3, 5, 6, 7, 8, 9, 10]\n"
     ]
    }
   ],
   "source": [
    "a += [5, 6, 7] # adding is appending/concatenating\n",
    "print(a)\n",
    "b = a + [8, 9, 10]\n",
    "print(b)"
   ]
  },
  {
   "cell_type": "code",
   "execution_count": 24,
   "metadata": {},
   "outputs": [
    {
     "name": "stdout",
     "output_type": "stream",
     "text": [
      "[1, 2, 3, 5, 6, 7, 8]\n"
     ]
    }
   ],
   "source": [
    "a.append(8)\n",
    "print(a)"
   ]
  },
  {
   "cell_type": "code",
   "execution_count": 26,
   "metadata": {},
   "outputs": [
    {
     "name": "stdout",
     "output_type": "stream",
     "text": [
      "[1, 2, 3, 5, 6, 7, 8, 1, 2, 3, 5, 6, 7, 8, 1, 2, 3, 5, 6, 7, 8]\n"
     ]
    }
   ],
   "source": [
    "b = 3*a # multiplying is repeating\n",
    "print(b)"
   ]
  },
  {
   "cell_type": "markdown",
   "metadata": {},
   "source": [
    "### Dictionaries (dict)"
   ]
  },
  {
   "cell_type": "code",
   "execution_count": 27,
   "metadata": {},
   "outputs": [
    {
     "name": "stdout",
     "output_type": "stream",
     "text": [
      "{1: 2, 2: 3, 3: 10, 4: -5}\n"
     ]
    }
   ],
   "source": [
    "# dictionaries are a general type of mapping\n",
    "d = {1: 2, 2: 3, 3: 10, 4: -5} # 1->2, 2->3, 3->10, 4->-5\n",
    "print(d)"
   ]
  },
  {
   "cell_type": "code",
   "execution_count": 28,
   "metadata": {},
   "outputs": [
    {
     "data": {
      "text/plain": [
       "10"
      ]
     },
     "execution_count": 28,
     "metadata": {},
     "output_type": "execute_result"
    }
   ],
   "source": [
    "d[3] # access with square brackets"
   ]
  },
  {
   "cell_type": "code",
   "execution_count": 29,
   "metadata": {},
   "outputs": [
    {
     "name": "stdout",
     "output_type": "stream",
     "text": [
      "{'firstname': 'doug', 'lastname': 'hanley', 'city': 'pittsburgh'}\n",
      "{'firstname': 'roee', 'lastname': 'teper'}\n"
     ]
    }
   ],
   "source": [
    "d = {'firstname': 'doug', 'lastname': 'hanley', 'city': 'pittsburgh'}\n",
    "d1 = {'firstname': 'roee', 'lastname': 'teper'}\n",
    "print(d)\n",
    "print(d1)"
   ]
  },
  {
   "cell_type": "code",
   "execution_count": 30,
   "metadata": {},
   "outputs": [
    {
     "name": "stdout",
     "output_type": "stream",
     "text": [
      "pittsburgh\n"
     ]
    },
    {
     "ename": "KeyError",
     "evalue": "'city'",
     "output_type": "error",
     "traceback": [
      "\u001b[0;31m---------------------------------------------------------------------------\u001b[0m",
      "\u001b[0;31mKeyError\u001b[0m                                  Traceback (most recent call last)",
      "\u001b[0;32m<ipython-input-30-a2c9420ae566>\u001b[0m in \u001b[0;36m<module>\u001b[0;34m()\u001b[0m\n\u001b[1;32m      1\u001b[0m \u001b[0mprint\u001b[0m\u001b[0;34m(\u001b[0m\u001b[0md\u001b[0m\u001b[0;34m[\u001b[0m\u001b[0;34m'city'\u001b[0m\u001b[0;34m]\u001b[0m\u001b[0;34m)\u001b[0m \u001b[0;31m# 'pittsburgh'\u001b[0m\u001b[0;34m\u001b[0m\u001b[0m\n\u001b[0;32m----> 2\u001b[0;31m \u001b[0mprint\u001b[0m\u001b[0;34m(\u001b[0m\u001b[0md1\u001b[0m\u001b[0;34m[\u001b[0m\u001b[0;34m'city'\u001b[0m\u001b[0;34m]\u001b[0m\u001b[0;34m)\u001b[0m \u001b[0;31m# error\u001b[0m\u001b[0;34m\u001b[0m\u001b[0m\n\u001b[0m",
      "\u001b[0;31mKeyError\u001b[0m: 'city'"
     ]
    }
   ],
   "source": [
    "print(d['city']) # 'pittsburgh'\n",
    "print(d1['city']) # error"
   ]
  },
  {
   "cell_type": "code",
   "execution_count": 32,
   "metadata": {},
   "outputs": [
    {
     "name": "stdout",
     "output_type": "stream",
     "text": [
      "False\n",
      "None\n",
      "unknown\n"
     ]
    }
   ],
   "source": [
    "print('city' in d1) # False\n",
    "print(d1.get('city')) # None\n",
    "print(d1.get('city', 'unknown')) # 'unknown'"
   ]
  },
  {
   "cell_type": "markdown",
   "metadata": {},
   "source": [
    "### Strings"
   ]
  },
  {
   "cell_type": "code",
   "execution_count": 33,
   "metadata": {},
   "outputs": [
    {
     "name": "stdout",
     "output_type": "stream",
     "text": [
      "hello world\n"
     ]
    }
   ],
   "source": [
    "s = 'hello world'\n",
    "print(s)"
   ]
  },
  {
   "cell_type": "code",
   "execution_count": 34,
   "metadata": {},
   "outputs": [
    {
     "name": "stdout",
     "output_type": "stream",
     "text": [
      "hello world again\n"
     ]
    }
   ],
   "source": [
    "# strings are like lists of characters\n",
    "s1 = s + ' again' # concatenate with addition\n",
    "print(s1)"
   ]
  },
  {
   "cell_type": "code",
   "execution_count": 35,
   "metadata": {},
   "outputs": [
    {
     "name": "stdout",
     "output_type": "stream",
     "text": [
      "hello worldhello worldhello world\n"
     ]
    }
   ],
   "source": [
    "print(3*s) # repeat with multiplication"
   ]
  },
  {
   "cell_type": "code",
   "execution_count": 38,
   "metadata": {},
   "outputs": [
    {
     "data": {
      "text/plain": [
       "'hello world hello world hello world'"
      ]
     },
     "execution_count": 38,
     "metadata": {},
     "output_type": "execute_result"
    }
   ],
   "source": [
    "' '.join(3*[s])"
   ]
  },
  {
   "cell_type": "code",
   "execution_count": 39,
   "metadata": {},
   "outputs": [
    {
     "name": "stdout",
     "output_type": "stream",
     "text": [
      "hello world hello world hello world\n",
      "hello world\n",
      "hello, world\n",
      "hello|world\n"
     ]
    }
   ],
   "source": [
    "# but what about spacing?\n",
    "print(' '.join(3*[s]))\n",
    "print(' '.join(['hello', 'world'])) # joins a list of string with given separator\n",
    "print(', '.join(['hello', 'world']))\n",
    "print('|'.join(['hello', 'world']))"
   ]
  },
  {
   "cell_type": "code",
   "execution_count": 85,
   "metadata": {},
   "outputs": [
    {
     "name": "stdout",
     "output_type": "stream",
     "text": [
      "5 - test\n",
      "5 - test\n",
      "5 - test\n",
      "5 - test\n"
     ]
    }
   ],
   "source": [
    "# advanced printing\n",
    "x = 5\n",
    "s = 'test'\n",
    "print('%d - %s' % (x, s)) # c style printing\n",
    "print('{} - {}'.format(x, s)) # format style printing\n",
    "print('{:d} - {:s}'.format(x, s)) # format style printing (with types)\n",
    "print(f'{x} - {s}') # f-string printing (new in python 3.6!)"
   ]
  },
  {
   "cell_type": "markdown",
   "metadata": {},
   "source": [
    "## Control Flow"
   ]
  },
  {
   "cell_type": "markdown",
   "metadata": {},
   "source": [
    "### Conditional"
   ]
  },
  {
   "cell_type": "code",
   "execution_count": 48,
   "metadata": {},
   "outputs": [
    {
     "name": "stdout",
     "output_type": "stream",
     "text": [
      "doubling\n",
      "12\n"
     ]
    }
   ],
   "source": [
    "# conditional\n",
    "a = 6\n",
    "if (a < 10) and (a > 3):\n",
    "    a *= 2\n",
    "    print('doubling')\n",
    "print(a)"
   ]
  },
  {
   "cell_type": "markdown",
   "metadata": {},
   "source": [
    "### Looping"
   ]
  },
  {
   "cell_type": "code",
   "execution_count": 49,
   "metadata": {},
   "outputs": [
    {
     "name": "stdout",
     "output_type": "stream",
     "text": [
      "5\n",
      "6\n",
      "7\n",
      "8\n",
      "9\n"
     ]
    }
   ],
   "source": [
    "# basic loop\n",
    "for x in [5, 6, 7, 8, 9]:\n",
    "    print(x)"
   ]
  },
  {
   "cell_type": "code",
   "execution_count": 54,
   "metadata": {},
   "outputs": [
    {
     "name": "stdout",
     "output_type": "stream",
     "text": [
      "0\n",
      "1\n",
      "2\n",
      "3\n",
      "4\n"
     ]
    }
   ],
   "source": [
    "# common loop\n",
    "for x in range(5):\n",
    "    print(x)"
   ]
  },
  {
   "cell_type": "code",
   "execution_count": 57,
   "metadata": {},
   "outputs": [
    {
     "name": "stdout",
     "output_type": "stream",
     "text": [
      "0 9\n",
      "1 8\n",
      "2 7\n",
      "3 6\n",
      "4 5\n"
     ]
    }
   ],
   "source": [
    "# a useful idiom\n",
    "for i, x in enumerate(reversed(range(5, 10))):\n",
    "    print(i, x)"
   ]
  },
  {
   "cell_type": "markdown",
   "metadata": {},
   "source": [
    "### List Comprehensions"
   ]
  },
  {
   "cell_type": "code",
   "execution_count": 58,
   "metadata": {},
   "outputs": [
    {
     "name": "stdout",
     "output_type": "stream",
     "text": [
      "range(0, 10)\n",
      "[0, 1, 2, 3, 4, 5, 6, 7, 8, 9]\n"
     ]
    }
   ],
   "source": [
    "a = range(10)\n",
    "print(a) # hmm - it's an iterator\n",
    "print(list(a))"
   ]
  },
  {
   "cell_type": "code",
   "execution_count": 59,
   "metadata": {},
   "outputs": [
    {
     "name": "stdout",
     "output_type": "stream",
     "text": [
      "[0, 1, 4, 9, 16, 25, 36, 49, 64, 81]\n"
     ]
    }
   ],
   "source": [
    "b = [x**2 for x in a] # like an inline loop\n",
    "print(b)"
   ]
  },
  {
   "cell_type": "code",
   "execution_count": 60,
   "metadata": {},
   "outputs": [
    {
     "name": "stdout",
     "output_type": "stream",
     "text": [
      "[0, 4, 16, 36, 64]\n"
     ]
    }
   ],
   "source": [
    "b = [x**2 for x in a if x % 2 == 0] # only if even\n",
    "print(b)"
   ]
  },
  {
   "cell_type": "code",
   "execution_count": 61,
   "metadata": {},
   "outputs": [
    {
     "name": "stdout",
     "output_type": "stream",
     "text": [
      "{'firstname': 'SEWON', 'lastname': 'HUR'}\n",
      "{'firstname': 'SEWON', 'lastname': 'HUR'}\n"
     ]
    }
   ],
   "source": [
    "# works with dictionaries too!\n",
    "d = {'firstname': 'sewon', 'lastname': 'hur'}\n",
    "d1 = {k: d[k].upper() for k in d}\n",
    "print(d1)\n",
    "d1 = {k: v.upper() for k, v in d.items()}\n",
    "print(d1)"
   ]
  },
  {
   "cell_type": "code",
   "execution_count": 62,
   "metadata": {},
   "outputs": [
    {
     "name": "stdout",
     "output_type": "stream",
     "text": [
      "[(0, 10), (1, 11), (2, 12), (3, 13), (4, 14), (5, 15), (6, 16), (7, 17), (8, 18), (9, 19)]\n",
      "[0, 11, 24, 39, 56, 75, 96, 119, 144, 171]\n"
     ]
    }
   ],
   "source": [
    "# zipping two lists\n",
    "a = range(10)\n",
    "b = range(10, 20)\n",
    "c1 = list(zip(a, b))\n",
    "c2 = [x*y for x, y in zip(a, b)]\n",
    "print(c1)\n",
    "print(c2)"
   ]
  },
  {
   "cell_type": "markdown",
   "metadata": {},
   "source": [
    "## Functions"
   ]
  },
  {
   "cell_type": "code",
   "execution_count": 63,
   "metadata": {},
   "outputs": [
    {
     "data": {
      "text/plain": [
       "15"
      ]
     },
     "execution_count": 63,
     "metadata": {},
     "output_type": "execute_result"
    }
   ],
   "source": [
    "# basic function (indentation matters)\n",
    "def multiply(x, y):\n",
    "    return x*y\n",
    "multiply(5, 3)"
   ]
  },
  {
   "cell_type": "code",
   "execution_count": 65,
   "metadata": {},
   "outputs": [
    {
     "name": "stdout",
     "output_type": "stream",
     "text": [
      "5\n",
      "3\n"
     ]
    }
   ],
   "source": [
    "# keyword arguments with default value (% is modulus)\n",
    "def multiply_mod(x, y, mod=10):\n",
    "    z = x*y\n",
    "    return z % mod\n",
    "print(multiply_mod(5, 3))\n",
    "print(multiply_mod(5, 3, mod=12))"
   ]
  },
  {
   "cell_type": "code",
   "execution_count": 66,
   "metadata": {},
   "outputs": [
    {
     "name": "stdout",
     "output_type": "stream",
     "text": [
      "test:\n",
      "op = add\n",
      "direction = up\n",
      "name = joe\n",
      "level = 7\n"
     ]
    }
   ],
   "source": [
    "# arbirtrary default values: up, direction, name, level could have been anything\n",
    "def run(cmd, **opts):\n",
    "    print('\\n'.join([f'{cmd}:'] + [f'{k} = {v}' for k, v in opts.items()]))\n",
    "run('test', op='add', direction='up', name='joe', level=7)"
   ]
  },
  {
   "cell_type": "code",
   "execution_count": 67,
   "metadata": {},
   "outputs": [
    {
     "name": "stdout",
     "output_type": "stream",
     "text": [
      "{'op': 'add', 'direction': 'up', 'name': 'joe', 'level': 7}\n"
     ]
    }
   ],
   "source": [
    "# here's how it works\n",
    "def func(**kwargs):\n",
    "    print(kwargs)\n",
    "func(op='add', direction='up', name='joe', level=7)"
   ]
  },
  {
   "cell_type": "code",
   "execution_count": 68,
   "metadata": {},
   "outputs": [
    {
     "name": "stdout",
     "output_type": "stream",
     "text": [
      "6\n",
      "6\n"
     ]
    }
   ],
   "source": [
    "# variable length arguments\n",
    "def func(*args):\n",
    "    return sum(args)\n",
    "x1 = func(*range(4))\n",
    "x2 = func(0, 1, 2, 3)\n",
    "print(x1)\n",
    "print(x2)"
   ]
  },
  {
   "cell_type": "markdown",
   "metadata": {},
   "source": [
    "### Lambda functions"
   ]
  },
  {
   "cell_type": "code",
   "execution_count": 69,
   "metadata": {},
   "outputs": [
    {
     "name": "stdout",
     "output_type": "stream",
     "text": [
      "5\n",
      "28\n"
     ]
    }
   ],
   "source": [
    "ident = lambda x: x\n",
    "mult = lambda x, y: x*y\n",
    "print(ident(5))\n",
    "print(mult(4, 7))"
   ]
  },
  {
   "cell_type": "markdown",
   "metadata": {},
   "source": [
    "### Functions of functions"
   ]
  },
  {
   "cell_type": "code",
   "execution_count": 272,
   "metadata": {},
   "outputs": [
    {
     "name": "stdout",
     "output_type": "stream",
     "text": [
      "-10 -3\n",
      "2 2\n"
     ]
    }
   ],
   "source": [
    "def bounder(f, a, b):\n",
    "    def fb(x):\n",
    "        return max(a, min(b, f(x)))\n",
    "    return fb\n",
    "g = lambda x: 2*x\n",
    "g1 = bounder(g, -3, 3)\n",
    "print(g(-5), g1(-5))\n",
    "print(g(1), g1(1))"
   ]
  },
  {
   "cell_type": "code",
   "execution_count": 302,
   "metadata": {},
   "outputs": [
    {
     "name": "stdout",
     "output_type": "stream",
     "text": [
      "-30\n",
      "-30\n"
     ]
    }
   ],
   "source": [
    "def negate(f):\n",
    "    def fn(x):\n",
    "        return -f(x)\n",
    "    return fn\n",
    "\n",
    "# this is called a decorator\n",
    "@negate\n",
    "def h1(x):\n",
    "    return 3*x\n",
    "print(h1(10))\n",
    "\n",
    "# this is equivalent to\n",
    "def h(x):\n",
    "    return 3*x\n",
    "h2 = negate(h)\n",
    "print(h2(10))"
   ]
  },
  {
   "cell_type": "markdown",
   "metadata": {},
   "source": [
    "# Modules"
   ]
  },
  {
   "cell_type": "code",
   "execution_count": 70,
   "metadata": {},
   "outputs": [],
   "source": [
    "# get acces to more functionality beyond builtins\n",
    "import re # regular expressions"
   ]
  },
  {
   "cell_type": "code",
   "execution_count": 275,
   "metadata": {},
   "outputs": [
    {
     "data": {
      "text/plain": [
       "'their social is xxx-xx-xxxx, fyi'"
      ]
     },
     "execution_count": 275,
     "metadata": {},
     "output_type": "execute_result"
    }
   ],
   "source": [
    "re.sub(r'[0-9]{3}-[0-9]{2}-[0-9]{4}', 'xxx-xx-xxxx', 'their social is 123-45-6789, fyi')"
   ]
  },
  {
   "cell_type": "code",
   "execution_count": 71,
   "metadata": {},
   "outputs": [
    {
     "name": "stdout",
     "output_type": "stream",
     "text": [
      "whats with all this silly punctuation \n"
     ]
    }
   ],
   "source": [
    "s = \"what's with;all, this--silly punctuation!?\"\n",
    "s1 = re.sub(r'[^a-z\\']', ' ', s)\n",
    "s1 = re.sub(r'\\'', '', s1)\n",
    "s1 = re.sub(r' +', ' ', s1)\n",
    "print(s1)"
   ]
  },
  {
   "cell_type": "code",
   "execution_count": 75,
   "metadata": {},
   "outputs": [],
   "source": [
    "from collections import defaultdict"
   ]
  },
  {
   "cell_type": "code",
   "execution_count": 73,
   "metadata": {},
   "outputs": [
    {
     "data": {
      "text/plain": [
       "['the', 'sly', 'fox', 'jumped', 'over', 'the', 'lazy', 'dog']"
      ]
     },
     "execution_count": 73,
     "metadata": {},
     "output_type": "execute_result"
    }
   ],
   "source": [
    "'the sly fox jumped over the lazy dog'.split()"
   ]
  },
  {
   "cell_type": "code",
   "execution_count": 76,
   "metadata": {},
   "outputs": [
    {
     "data": {
      "text/plain": [
       "defaultdict(list,\n",
       "            {3: ['the', 'sly', 'fox', 'the', 'dog'],\n",
       "             4: ['over', 'lazy'],\n",
       "             6: ['jumped']})"
      ]
     },
     "execution_count": 76,
     "metadata": {},
     "output_type": "execute_result"
    }
   ],
   "source": [
    "s = 'the sly fox jumped over the lazy dog'\n",
    "d = defaultdict(list)\n",
    "for w in s.split():\n",
    "    d[len(w)] += [w]\n",
    "d"
   ]
  },
  {
   "cell_type": "code",
   "execution_count": 77,
   "metadata": {},
   "outputs": [
    {
     "data": {
      "text/plain": [
       "{3: 5, 4: 2, 6: 1}"
      ]
     },
     "execution_count": 77,
     "metadata": {},
     "output_type": "execute_result"
    }
   ],
   "source": [
    "{k: len(v) for k, v in d.items()}"
   ]
  },
  {
   "cell_type": "markdown",
   "metadata": {},
   "source": [
    "# Numerics"
   ]
  },
  {
   "cell_type": "code",
   "execution_count": 78,
   "metadata": {},
   "outputs": [],
   "source": [
    "import numpy as np"
   ]
  },
  {
   "cell_type": "code",
   "execution_count": 79,
   "metadata": {},
   "outputs": [
    {
     "data": {
      "text/plain": [
       "array([ 1.,  1.,  1.,  1.,  1.,  1.,  1.,  1.,  1.,  1.])"
      ]
     },
     "execution_count": 79,
     "metadata": {},
     "output_type": "execute_result"
    }
   ],
   "source": [
    "np.ones(10) # similar to matlab"
   ]
  },
  {
   "cell_type": "code",
   "execution_count": 80,
   "metadata": {},
   "outputs": [
    {
     "name": "stdout",
     "output_type": "stream",
     "text": [
      "[ 5  7  9 11 13 15 17 19 21]\n"
     ]
    }
   ],
   "source": [
    "# ranges\n",
    "a = np.arange(5, 22, 2)\n",
    "print(a)"
   ]
  },
  {
   "cell_type": "code",
   "execution_count": 82,
   "metadata": {},
   "outputs": [
    {
     "name": "stdout",
     "output_type": "stream",
     "text": [
      "[0 1 2 3 4 5 6 7 8 9]\n",
      "0\n",
      "[3 4 5 6 7 8 9]\n",
      "[0 1 2 3 4 5 6 7 8]\n",
      "[3 4]\n"
     ]
    }
   ],
   "source": [
    "# indexing\n",
    "a = np.arange(10)\n",
    "print(a)\n",
    "print(a[0]) # zero indexed!\n",
    "print(a[3:]) # no 'end' needed\n",
    "print(a[:-1]) # negatives index from end\n",
    "print(a[3:5]) # second index is non-inclusive"
   ]
  },
  {
   "cell_type": "code",
   "execution_count": 83,
   "metadata": {},
   "outputs": [
    {
     "data": {
      "text/plain": [
       "array([[0],\n",
       "       [1],\n",
       "       [2],\n",
       "       [3],\n",
       "       [4],\n",
       "       [5],\n",
       "       [6],\n",
       "       [7],\n",
       "       [8],\n",
       "       [9]])"
      ]
     },
     "execution_count": 83,
     "metadata": {},
     "output_type": "execute_result"
    }
   ],
   "source": [
    "# adding dimensions with indexing\n",
    "a[:, None]"
   ]
  },
  {
   "cell_type": "code",
   "execution_count": 84,
   "metadata": {},
   "outputs": [
    {
     "data": {
      "text/plain": [
       "array([ 0,  1,  4,  9, 16, 25, 36, 49, 64, 81])"
      ]
     },
     "execution_count": 84,
     "metadata": {},
     "output_type": "execute_result"
    }
   ],
   "source": [
    "# multiplication is element-wise by default (like .* in matlab)\n",
    "np.arange(10)*np.arange(10)"
   ]
  },
  {
   "cell_type": "code",
   "execution_count": 38,
   "metadata": {},
   "outputs": [
    {
     "data": {
      "text/plain": [
       "array([[ 50,  55,  60,  65,  70,  75,  80,  85,  90,  95],\n",
       "       [ 60,  66,  72,  78,  84,  90,  96, 102, 108, 114],\n",
       "       [ 70,  77,  84,  91,  98, 105, 112, 119, 126, 133],\n",
       "       [ 80,  88,  96, 104, 112, 120, 128, 136, 144, 152],\n",
       "       [ 90,  99, 108, 117, 126, 135, 144, 153, 162, 171],\n",
       "       [100, 110, 120, 130, 140, 150, 160, 170, 180, 190],\n",
       "       [110, 121, 132, 143, 154, 165, 176, 187, 198, 209],\n",
       "       [120, 132, 144, 156, 168, 180, 192, 204, 216, 228],\n",
       "       [130, 143, 156, 169, 182, 195, 208, 221, 234, 247],\n",
       "       [140, 154, 168, 182, 196, 210, 224, 238, 252, 266]])"
      ]
     },
     "execution_count": 38,
     "metadata": {},
     "output_type": "execute_result"
    }
   ],
   "source": [
    "# broadcasting is a game changer\n",
    "np.arange(10, 20)[None, :]*np.arange(5,15)[:, None]"
   ]
  },
  {
   "cell_type": "code",
   "execution_count": 311,
   "metadata": {},
   "outputs": [
    {
     "name": "stdout",
     "output_type": "stream",
     "text": [
      "[[ 0.54839071 -1.32405067  1.14054318  1.85220744 -0.47987087]\n",
      " [ 0.5770695   1.92283832 -1.57272341 -2.23791969 -0.05571488]\n",
      " [-0.39764549  2.17280834 -0.29814431 -1.18987945 -1.32990316]\n",
      " [-0.67405108  0.91350303 -0.85285634 -0.06131928  0.36384566]\n",
      " [ 0.09004675 -2.28094404  1.40617188  1.2182205   1.49000203]]\n",
      "[[  1.00000000e+00   9.03273052e-17  -3.51619071e-17  -9.89443004e-17\n",
      "    1.06541962e-17]\n",
      " [ -2.91402300e-16   1.00000000e+00   3.41177259e-16   2.82576316e-16\n",
      "    2.13898530e-16]\n",
      " [ -1.24511108e-16  -2.06930785e-16   1.00000000e+00  -8.56386727e-17\n",
      "   -3.20865589e-16]\n",
      " [ -1.59128960e-17   2.58656942e-16   6.00543193e-17   1.00000000e+00\n",
      "    9.69298456e-17]\n",
      " [ -1.58646787e-16  -3.86298915e-17   2.23066999e-16  -8.57939715e-17\n",
      "    1.00000000e+00]]\n"
     ]
    }
   ],
   "source": [
    "m = np.random.rand(5, 5)\n",
    "mi = np.linalg.inv(m)\n",
    "print(mi)\n",
    "print(np.dot(m, mi))"
   ]
  },
  {
   "cell_type": "code",
   "execution_count": 85,
   "metadata": {},
   "outputs": [
    {
     "data": {
      "text/plain": [
       "array([2, 0, 0, 4, 3, 1, 4, 0, 3, 3])"
      ]
     },
     "execution_count": 85,
     "metadata": {},
     "output_type": "execute_result"
    }
   ],
   "source": [
    "np.random.randint(5, size=10)"
   ]
  },
  {
   "cell_type": "markdown",
   "metadata": {},
   "source": [
    "# Plotting"
   ]
  },
  {
   "cell_type": "code",
   "execution_count": 86,
   "metadata": {},
   "outputs": [],
   "source": [
    "import matplotlib.pyplot as plt\n",
    "%matplotlib inline"
   ]
  },
  {
   "cell_type": "code",
   "execution_count": 87,
   "metadata": {},
   "outputs": [
    {
     "data": {
      "image/png": "[encoded data removed]",
      "text/plain": [
       "<matplotlib.figure.Figure at 0x1086d0828>"
      ]
     },
     "metadata": {},
     "output_type": "display_data"
    }
   ],
   "source": [
    "plt.plot(np.arange(10));"
   ]
  },
  {
   "cell_type": "code",
   "execution_count": 88,
   "metadata": {},
   "outputs": [
    {
     "data": {
      "image/png": "[encoded data removed]",
      "text/plain": [
       "<matplotlib.figure.Figure at 0x1086d0128>"
      ]
     },
     "metadata": {},
     "output_type": "display_data"
    }
   ],
   "source": [
    "plt.hist(np.random.randn(1000));"
   ]
  },
  {
   "cell_type": "markdown",
   "metadata": {},
   "source": [
    "## Exercise 1"
   ]
  },
  {
   "cell_type": "markdown",
   "metadata": {},
   "source": [
    "1. Generate a bunch of random sentences\n",
    "2. Compute word counts and word frequencies for each\n",
    "3. Plot distribution of frequency and log frequency"
   ]
  },
  {
   "cell_type": "markdown",
   "metadata": {},
   "source": [
    "## More Plotting"
   ]
  },
  {
   "cell_type": "code",
   "execution_count": 89,
   "metadata": {},
   "outputs": [
    {
     "data": {
      "image/png": "[encoded data removed]",
      "text/plain": [
       "<matplotlib.figure.Figure at 0x109498ac8>"
      ]
     },
     "metadata": {},
     "output_type": "display_data"
    }
   ],
   "source": [
    "plt.plot(np.cumsum(np.random.randn(1000)));"
   ]
  },
  {
   "cell_type": "code",
   "execution_count": 90,
   "metadata": {},
   "outputs": [
    {
     "data": {
      "image/png": "[encoded data removed]",
      "text/plain": [
       "<matplotlib.figure.Figure at 0x1094bbcc0>"
      ]
     },
     "metadata": {},
     "output_type": "display_data"
    }
   ],
   "source": [
    "plt.plot(np.cumsum(np.random.randn(1000,2), axis=0));"
   ]
  },
  {
   "cell_type": "code",
   "execution_count": 91,
   "metadata": {},
   "outputs": [
    {
     "name": "stdout",
     "output_type": "stream",
     "text": [
      "[-0.77191859  0.76854639]\n"
     ]
    },
    {
     "data": {
      "image/png": "[encoded data removed]",
      "text/plain": [
       "<matplotlib.figure.Figure at 0x1094e27f0>"
      ]
     },
     "metadata": {},
     "output_type": "display_data"
    }
   ],
   "source": [
    "N = 10000\n",
    "rhos = np.array([np.corrcoef(np.cumsum(np.random.randn(1000,2), axis=0).T)[0, 1] for _ in range(N)])\n",
    "print(np.percentile(rhos, [5, 95]))\n",
    "plt.hist(rhos, bins=50);"
   ]
  },
  {
   "cell_type": "code",
   "execution_count": 92,
   "metadata": {},
   "outputs": [
    {
     "name": "stdout",
     "output_type": "stream",
     "text": [
      "[-0.0520923   0.05260665]\n"
     ]
    },
    {
     "data": {
      "image/png": "[encoded data removed]",
      "text/plain": [
       "<matplotlib.figure.Figure at 0x109412e80>"
      ]
     },
     "metadata": {},
     "output_type": "display_data"
    }
   ],
   "source": [
    "N = 10000\n",
    "rhos = np.array([np.corrcoef(np.random.randn(1000,2).T)[0, 1] for _ in range(N)])\n",
    "print(np.percentile(rhos, [5, 95]))\n",
    "plt.hist(rhos, bins=50);"
   ]
  },
  {
   "cell_type": "markdown",
   "metadata": {},
   "source": [
    "## Exercise 2"
   ]
  },
  {
   "cell_type": "markdown",
   "metadata": {},
   "source": [
    "Do the same but for an AR(1)."
   ]
  },
  {
   "cell_type": "markdown",
   "metadata": {},
   "source": [
    "# Input/Output"
   ]
  },
  {
   "cell_type": "code",
   "execution_count": 108,
   "metadata": {},
   "outputs": [
    {
     "data": {
      "text/plain": [
       "array([[ 0.07656974,  0.76489637,  0.68906627,  0.86490295,  0.19942818],\n",
       "       [ 0.31820539,  0.2608645 ,  0.36252835,  0.96353654,  0.37711534],\n",
       "       [ 0.78489067,  0.15013958,  0.41535064,  0.43516539,  0.71175159],\n",
       "       [ 0.28246233,  0.98826842,  0.51079063,  0.52503783,  0.20349453],\n",
       "       [ 0.20516738,  0.85504585,  0.26587281,  0.73859671,  0.5655495 ],\n",
       "       [ 0.31700935,  0.48704798,  0.45635438,  0.40519069,  0.32605389],\n",
       "       [ 0.25269214,  0.71762952,  0.05470384,  0.3396165 ,  0.00176159],\n",
       "       [ 0.10865864,  0.51003673,  0.82169637,  0.07760636,  0.97579113],\n",
       "       [ 0.14539093,  0.64582779,  0.00939866,  0.71058061,  0.88264875],\n",
       "       [ 0.54391909,  0.28746245,  0.75073904,  0.48462381,  0.01145043],\n",
       "       [ 0.17460128,  0.5020513 ,  0.78355766,  0.43750182,  0.46743086],\n",
       "       [ 0.53001962,  0.8061661 ,  0.76480083,  0.44308112,  0.885797  ],\n",
       "       [ 0.75557827,  0.02468179,  0.18707124,  0.8372771 ,  0.62876026],\n",
       "       [ 0.80612636,  0.8458013 ,  0.47360728,  0.99362971,  0.19165196],\n",
       "       [ 0.05270925,  0.35327553,  0.35793575,  0.61062636,  0.7469428 ],\n",
       "       [ 0.9096376 ,  0.93607516,  0.73826271,  0.51797147,  0.13383663],\n",
       "       [ 0.86812661,  0.31994589,  0.29116457,  0.77417063,  0.62839885],\n",
       "       [ 0.73755807,  0.57390184,  0.04435599,  0.64010549,  0.4222067 ],\n",
       "       [ 0.21209226,  0.79342847,  0.33459255,  0.34466881,  0.97493474],\n",
       "       [ 0.32979451,  0.95580459,  0.79846514,  0.29380017,  0.52188719],\n",
       "       [ 0.12941971,  0.57096907,  0.57152049,  0.30191392,  0.20552816],\n",
       "       [ 0.24684658,  0.49592703,  0.99203105,  0.64616534,  0.29797121],\n",
       "       [ 0.33881113,  0.50537098,  0.38358849,  0.43416746,  0.11097387],\n",
       "       [ 0.63145988,  0.67163692,  0.58998449,  0.841018  ,  0.24887779],\n",
       "       [ 0.80787295,  0.36171996,  0.17210439,  0.35763937,  0.51072666],\n",
       "       [ 0.85131942,  0.72490417,  0.58912183,  0.94931361,  0.62022106],\n",
       "       [ 0.92445894,  0.38938444,  0.97207953,  0.09733593,  0.70627599],\n",
       "       [ 0.30316877,  0.12521804,  0.12166632,  0.41752935,  0.487631  ],\n",
       "       [ 0.3742076 ,  0.16366696,  0.20031427,  0.17335124,  0.23818735],\n",
       "       [ 0.66280161,  0.093773  ,  0.99291617,  0.95580451,  0.91943343]])"
      ]
     },
     "execution_count": 108,
     "metadata": {},
     "output_type": "execute_result"
    }
   ],
   "source": [
    "N, M = 30, 5\n",
    "dat = np.random.rand(N, M)\n",
    "dat"
   ]
  },
  {
   "cell_type": "code",
   "execution_count": 118,
   "metadata": {},
   "outputs": [],
   "source": [
    "fid = open('test.csv', 'w+')\n",
    "fid.write(','.join([f'col{i}' for i in range(dat.shape[1])])+'\\n')\n",
    "for row in dat:\n",
    "    fid.write(','.join([f'{x:.5f}' for x in row])+'\\n')\n",
    "fid.close()"
   ]
  },
  {
   "cell_type": "code",
   "execution_count": 122,
   "metadata": {},
   "outputs": [
    {
     "name": "stdout",
     "output_type": "stream",
     "text": [
      "col0,col1,col2,col3,col4\n",
      "0.07657,0.76490,0.68907,0.86490,0.19943\n",
      "0.31821,0.26086,0.36253,0.96354,0.37712\n",
      "0.78489,0.15014,0.41535,0.43517,0.71175\n",
      "0.28246,0.98827,0.51079,0.52504,0.20349\n",
      "0.20517,0.85505,0.26587,0.73860,0.56555\n",
      "0.31701,0.48705,0.45635,0.40519,0.32605\n",
      "0.25269,0.71763,0.05470,0.33962,0.00176\n",
      "0.10866,0.51004,0.82170,0.07761,0.97579\n",
      "0.14539,0.64583,0.00940,0.71058,0.88265\n",
      "0.54392,0.28746,0.75074,0.48462,0.01145\n",
      "0.17460,0.50205,0.78356,0.43750,0.46743\n",
      "0.53002,0.80617,0.76480,0.44308,0.88580\n",
      "0.75558,0.02468,0.18707,0.83728,0.62876\n",
      "0.80613,0.84580,0.47361,0.99363,0.19165\n",
      "0.05271,0.35328,0.35794,0.61063,0.74694\n",
      "0.90964,0.93608,0.73826,0.51797,0.13384\n",
      "0.86813,0.31995,0.29116,0.77417,0.62840\n",
      "0.73756,0.57390,0.04436,0.64011,0.42221\n",
      "0.21209,0.79343,0.33459,0.34467,0.97493\n",
      "0.32979,0.95580,0.79847,0.29380,0.52189\n",
      "0.12942,0.57097,0.57152,0.30191,0.20553\n",
      "0.24685,0.49593,0.99203,0.64617,0.29797\n",
      "0.33881,0.50537,0.38359,0.43417,0.11097\n",
      "0.63146,0.67164,0.58998,0.84102,0.24888\n",
      "0.80787,0.36172,0.17210,0.35764,0.51073\n",
      "0.85132,0.72490,0.58912,0.94931,0.62022\n",
      "0.92446,0.38938,0.97208,0.09734,0.70628\n",
      "0.30317,0.12522,0.12167,0.41753,0.48763\n",
      "0.37421,0.16367,0.20031,0.17335,0.23819\n",
      "0.66280,0.09377,0.99292,0.95580,0.91943\n",
      "\n"
     ]
    }
   ],
   "source": [
    "fid = open('test.csv')\n",
    "print(fid.read())"
   ]
  },
  {
   "cell_type": "code",
   "execution_count": 128,
   "metadata": {},
   "outputs": [
    {
     "name": "stdout",
     "output_type": "stream",
     "text": [
      "['col0', 'col1', 'col2', 'col3', 'col4']\n"
     ]
    },
    {
     "data": {
      "text/plain": [
       "array([[ 0.07657,  0.7649 ,  0.68907,  0.8649 ,  0.19943],\n",
       "       [ 0.31821,  0.26086,  0.36253,  0.96354,  0.37712],\n",
       "       [ 0.78489,  0.15014,  0.41535,  0.43517,  0.71175],\n",
       "       [ 0.28246,  0.98827,  0.51079,  0.52504,  0.20349],\n",
       "       [ 0.20517,  0.85505,  0.26587,  0.7386 ,  0.56555],\n",
       "       [ 0.31701,  0.48705,  0.45635,  0.40519,  0.32605],\n",
       "       [ 0.25269,  0.71763,  0.0547 ,  0.33962,  0.00176],\n",
       "       [ 0.10866,  0.51004,  0.8217 ,  0.07761,  0.97579],\n",
       "       [ 0.14539,  0.64583,  0.0094 ,  0.71058,  0.88265],\n",
       "       [ 0.54392,  0.28746,  0.75074,  0.48462,  0.01145],\n",
       "       [ 0.1746 ,  0.50205,  0.78356,  0.4375 ,  0.46743],\n",
       "       [ 0.53002,  0.80617,  0.7648 ,  0.44308,  0.8858 ],\n",
       "       [ 0.75558,  0.02468,  0.18707,  0.83728,  0.62876],\n",
       "       [ 0.80613,  0.8458 ,  0.47361,  0.99363,  0.19165],\n",
       "       [ 0.05271,  0.35328,  0.35794,  0.61063,  0.74694],\n",
       "       [ 0.90964,  0.93608,  0.73826,  0.51797,  0.13384],\n",
       "       [ 0.86813,  0.31995,  0.29116,  0.77417,  0.6284 ],\n",
       "       [ 0.73756,  0.5739 ,  0.04436,  0.64011,  0.42221],\n",
       "       [ 0.21209,  0.79343,  0.33459,  0.34467,  0.97493],\n",
       "       [ 0.32979,  0.9558 ,  0.79847,  0.2938 ,  0.52189],\n",
       "       [ 0.12942,  0.57097,  0.57152,  0.30191,  0.20553],\n",
       "       [ 0.24685,  0.49593,  0.99203,  0.64617,  0.29797],\n",
       "       [ 0.33881,  0.50537,  0.38359,  0.43417,  0.11097],\n",
       "       [ 0.63146,  0.67164,  0.58998,  0.84102,  0.24888],\n",
       "       [ 0.80787,  0.36172,  0.1721 ,  0.35764,  0.51073],\n",
       "       [ 0.85132,  0.7249 ,  0.58912,  0.94931,  0.62022],\n",
       "       [ 0.92446,  0.38938,  0.97208,  0.09734,  0.70628],\n",
       "       [ 0.30317,  0.12522,  0.12167,  0.41753,  0.48763],\n",
       "       [ 0.37421,  0.16367,  0.20031,  0.17335,  0.23819],\n",
       "       [ 0.6628 ,  0.09377,  0.99292,  0.9558 ,  0.91943]])"
      ]
     },
     "execution_count": 128,
     "metadata": {},
     "output_type": "execute_result"
    }
   ],
   "source": [
    "fid = open('test.csv')\n",
    "rows = list(fid)\n",
    "names = rows[0].strip().split(',')\n",
    "rdat = np.array([x.strip().split(',') for x in rows[1:]]).astype(np.float)\n",
    "print(names)\n",
    "rdat"
   ]
  },
  {
   "cell_type": "markdown",
   "metadata": {},
   "source": [
    "# The Web"
   ]
  },
  {
   "cell_type": "code",
   "execution_count": 23,
   "metadata": {},
   "outputs": [],
   "source": [
    "from urllib.request import urlopen"
   ]
  },
  {
   "cell_type": "code",
   "execution_count": 148,
   "metadata": {},
   "outputs": [],
   "source": [
    "ret = urlopen('https://econ.tepper.cmu.edu/seminars/seminar.asp?sort=1&short=Y')"
   ]
  },
  {
   "cell_type": "code",
   "execution_count": 150,
   "metadata": {},
   "outputs": [],
   "source": [
    "text = ret.read()"
   ]
  },
  {
   "cell_type": "code",
   "execution_count": 152,
   "metadata": {},
   "outputs": [],
   "source": [
    "from bs4 import BeautifulSoup"
   ]
  },
  {
   "cell_type": "code",
   "execution_count": 251,
   "metadata": {},
   "outputs": [
    {
     "name": "stderr",
     "output_type": "stream",
     "text": [
      "/usr/lib/python3.6/site-packages/bs4/__init__.py:181: UserWarning: No parser was explicitly specified, so I'm using the best available HTML parser for this system (\"lxml\"). This usually isn't a problem, but if you run this code on another system, or in a different virtual environment, it may use a different parser and behave differently.\n",
      "\n",
      "The code that caused this warning is on line 193 of the file /usr/lib64/python3.6/runpy.py. To get rid of this warning, change code that looks like this:\n",
      "\n",
      " BeautifulSoup(YOUR_MARKUP})\n",
      "\n",
      "to this:\n",
      "\n",
      " BeautifulSoup(YOUR_MARKUP, \"lxml\")\n",
      "\n",
      "  markup_type=markup_type))\n"
     ]
    }
   ],
   "source": [
    "tree = BeautifulSoup(text)"
   ]
  },
  {
   "cell_type": "code",
   "execution_count": 163,
   "metadata": {},
   "outputs": [],
   "source": [
    "tabs = tree.find_all('table')"
   ]
  },
  {
   "cell_type": "code",
   "execution_count": 205,
   "metadata": {},
   "outputs": [],
   "source": [
    "# drop beginning, end, and week headers\n",
    "rtabs = [tab for tab in tabs[3:-1] if 'Seminars for Week of' not in tab.text]"
   ]
  },
  {
   "cell_type": "code",
   "execution_count": 206,
   "metadata": {},
   "outputs": [],
   "source": [
    "# divide into chunks\n",
    "ctabs = [rtabs[i:i+3] for i in range(0, len(rtabs), 3)]"
   ]
  },
  {
   "cell_type": "code",
   "execution_count": 354,
   "metadata": {},
   "outputs": [],
   "source": [
    "def tab_summary(tab):\n",
    "    info = {}\n",
    "    speak = tab[0].tr.td.text\n",
    "    name, inst = speak.strip().split('\\r\\n')\n",
    "    inst = inst.split(',')[1].strip() if ',' in inst else inst\n",
    "    title = tab[1].tr.td.b.text\n",
    "    info['name'] = name\n",
    "    info['institution'] = inst\n",
    "    info['title'] = title\n",
    "    return info\n",
    "tsums = [tab_summary(tab) for tab in ctabs]"
   ]
  },
  {
   "cell_type": "code",
   "execution_count": 355,
   "metadata": {},
   "outputs": [
    {
     "data": {
      "text/html": [
       "<div>\n",
       "<style>\n",
       "    .dataframe thead tr:only-child th {\n",
       "        text-align: right;\n",
       "    }\n",
       "\n",
       "    .dataframe thead th {\n",
       "        text-align: left;\n",
       "    }\n",
       "\n",
       "    .dataframe tbody tr th {\n",
       "        vertical-align: top;\n",
       "    }\n",
       "</style>\n",
       "<table border=\"1\" class=\"dataframe\">\n",
       "  <thead>\n",
       "    <tr style=\"text-align: right;\">\n",
       "      <th></th>\n",
       "      <th>institution</th>\n",
       "      <th>name</th>\n",
       "      <th>title</th>\n",
       "    </tr>\n",
       "  </thead>\n",
       "  <tbody>\n",
       "    <tr>\n",
       "      <th>0</th>\n",
       "      <td>Carnegie Mellon University</td>\n",
       "      <td>Leah Clark</td>\n",
       "      <td>Dissertation Proposal: Three Essays on Economi...</td>\n",
       "    </tr>\n",
       "    <tr>\n",
       "      <th>1</th>\n",
       "      <td>Columbia</td>\n",
       "      <td>Douglas Almond</td>\n",
       "      <td>Almond-TBA</td>\n",
       "    </tr>\n",
       "    <tr>\n",
       "      <th>2</th>\n",
       "      <td>University of Chicago</td>\n",
       "      <td>Eric Zwick</td>\n",
       "      <td>Capitalists in the Twenty-First Century</td>\n",
       "    </tr>\n",
       "    <tr>\n",
       "      <th>3</th>\n",
       "      <td>Carnegie Mellon University</td>\n",
       "      <td>Nam Ho</td>\n",
       "      <td>Local Competition and Auditors Use of Non-Aud...</td>\n",
       "    </tr>\n",
       "    <tr>\n",
       "      <th>4</th>\n",
       "      <td>Yale University</td>\n",
       "      <td>Johannes Horner</td>\n",
       "      <td>Keeping Your Story Straight: Truthtelling and ...</td>\n",
       "    </tr>\n",
       "    <tr>\n",
       "      <th>5</th>\n",
       "      <td>Carnegie Mellon University</td>\n",
       "      <td>Selcuk Ozyurt</td>\n",
       "      <td>Upping the Ante: The Equilibrium Effects of Un...</td>\n",
       "    </tr>\n",
       "    <tr>\n",
       "      <th>6</th>\n",
       "      <td>Carnegie Mellon University</td>\n",
       "      <td>Elizabeth Campbell &amp; Matthew Diabes</td>\n",
       "      <td>TBA/Campbell-Diabes</td>\n",
       "    </tr>\n",
       "    <tr>\n",
       "      <th>7</th>\n",
       "      <td>Northwestern University</td>\n",
       "      <td>Nicolas  Crouzet</td>\n",
       "      <td>Small &amp; Large Firms Over The Business Cycle</td>\n",
       "    </tr>\n",
       "    <tr>\n",
       "      <th>8</th>\n",
       "      <td>Carnegie Mellon University</td>\n",
       "      <td>Willem-Jan  van Hoeve</td>\n",
       "      <td>Decision Diagrams for Optimization</td>\n",
       "    </tr>\n",
       "    <tr>\n",
       "      <th>9</th>\n",
       "      <td>Tufts Univresity</td>\n",
       "      <td>Kelsey Jack</td>\n",
       "      <td>Jack--TBA</td>\n",
       "    </tr>\n",
       "    <tr>\n",
       "      <th>10</th>\n",
       "      <td>Carnegie Mellon University</td>\n",
       "      <td>Willem-Jan  van Hoeve</td>\n",
       "      <td>Decision Diagrams for Optimization</td>\n",
       "    </tr>\n",
       "    <tr>\n",
       "      <th>11</th>\n",
       "      <td>Stanford University</td>\n",
       "      <td>Ran Abramitsky</td>\n",
       "      <td>Cultural Assimilation During The Two Ages Of M...</td>\n",
       "    </tr>\n",
       "    <tr>\n",
       "      <th>12</th>\n",
       "      <td>London Business School</td>\n",
       "      <td>Alex Edmans</td>\n",
       "      <td>The Effect of Diversification on Price Informa...</td>\n",
       "    </tr>\n",
       "    <tr>\n",
       "      <th>13</th>\n",
       "      <td>NYU Stern</td>\n",
       "      <td>Gal Oestreicher-Singer</td>\n",
       "      <td>Gal-TBA</td>\n",
       "    </tr>\n",
       "    <tr>\n",
       "      <th>14</th>\n",
       "      <td>Stanford University</td>\n",
       "      <td>Dana Foarta</td>\n",
       "      <td>Avoiding The Cost Of A Bad Hire: On The Optima...</td>\n",
       "    </tr>\n",
       "    <tr>\n",
       "      <th>15</th>\n",
       "      <td>Disney Research/CMU</td>\n",
       "      <td>Maarten Bos</td>\n",
       "      <td>TBA/Bos</td>\n",
       "    </tr>\n",
       "    <tr>\n",
       "      <th>16</th>\n",
       "      <td>Carnegie Mellon University</td>\n",
       "      <td>Alessandro Iorio</td>\n",
       "      <td>The Valley of Trust: The Effect of Relational ...</td>\n",
       "    </tr>\n",
       "    <tr>\n",
       "      <th>17</th>\n",
       "      <td>Carnegie Mellon University</td>\n",
       "      <td>John Hooker</td>\n",
       "      <td>TBA-Hooker</td>\n",
       "    </tr>\n",
       "    <tr>\n",
       "      <th>18</th>\n",
       "      <td>Washington University in St. Louis</td>\n",
       "      <td>Stuart Bunderson</td>\n",
       "      <td>TBA-Bunderson</td>\n",
       "    </tr>\n",
       "    <tr>\n",
       "      <th>19</th>\n",
       "      <td>Visiting the Tepper School</td>\n",
       "      <td>Stefan Lewellen</td>\n",
       "      <td>TBA/Lewellen</td>\n",
       "    </tr>\n",
       "    <tr>\n",
       "      <th>20</th>\n",
       "      <td>Boston University</td>\n",
       "      <td>Adam Guren</td>\n",
       "      <td>GUREN--TBA</td>\n",
       "    </tr>\n",
       "    <tr>\n",
       "      <th>21</th>\n",
       "      <td>PhD Candidate</td>\n",
       "      <td>Jordan Bable</td>\n",
       "      <td>Final Dissertation Defense Meeting</td>\n",
       "    </tr>\n",
       "    <tr>\n",
       "      <th>22</th>\n",
       "      <td>University of Pittsburgh</td>\n",
       "      <td>Osea Giuntella</td>\n",
       "      <td>GIUNTELLA--TBA</td>\n",
       "    </tr>\n",
       "    <tr>\n",
       "      <th>23</th>\n",
       "      <td>Carnegie Mellon University</td>\n",
       "      <td>Yeonjeong Kim</td>\n",
       "      <td>Dissertation Defense--Detecting the Moral Char...</td>\n",
       "    </tr>\n",
       "    <tr>\n",
       "      <th>24</th>\n",
       "      <td>University of Toronto</td>\n",
       "      <td>Heski Bar-Isaac</td>\n",
       "      <td>Adverse Selection, Efficiency and the Structur...</td>\n",
       "    </tr>\n",
       "    <tr>\n",
       "      <th>25</th>\n",
       "      <td>Rice University</td>\n",
       "      <td>Cyrus Mody</td>\n",
       "      <td>Mody-TBA</td>\n",
       "    </tr>\n",
       "    <tr>\n",
       "      <th>26</th>\n",
       "      <td>Carnegie Mellon University</td>\n",
       "      <td>Atanu Paul</td>\n",
       "      <td>TBA/Paul</td>\n",
       "    </tr>\n",
       "    <tr>\n",
       "      <th>27</th>\n",
       "      <td>Stanford University</td>\n",
       "      <td>Mohammad Akbarpout</td>\n",
       "      <td>TBA/Akbarpour</td>\n",
       "    </tr>\n",
       "    <tr>\n",
       "      <th>28</th>\n",
       "      <td>University of Minnesota</td>\n",
       "      <td>Kyle Herkenhoff</td>\n",
       "      <td>TBA/Herkenhoff</td>\n",
       "    </tr>\n",
       "    <tr>\n",
       "      <th>29</th>\n",
       "      <td>NYU Stern</td>\n",
       "      <td>Daria Dzyabura</td>\n",
       "      <td>Capturing Heterogeneity Among Consumers with M...</td>\n",
       "    </tr>\n",
       "    <tr>\n",
       "      <th>...</th>\n",
       "      <td>...</td>\n",
       "      <td>...</td>\n",
       "      <td>...</td>\n",
       "    </tr>\n",
       "    <tr>\n",
       "      <th>114</th>\n",
       "      <td>IMF</td>\n",
       "      <td>Sandra Lizarazo</td>\n",
       "      <td>Lizarazo--TBA</td>\n",
       "    </tr>\n",
       "    <tr>\n",
       "      <th>115</th>\n",
       "      <td>Rutgars University</td>\n",
       "      <td>Laurie Rudman</td>\n",
       "      <td>TBA/Rudman</td>\n",
       "    </tr>\n",
       "    <tr>\n",
       "      <th>116</th>\n",
       "      <td>Princeton University</td>\n",
       "      <td>Janet Currie</td>\n",
       "      <td>CURRIE--TBA</td>\n",
       "    </tr>\n",
       "    <tr>\n",
       "      <th>117</th>\n",
       "      <td>Stanford University</td>\n",
       "      <td>Shai Bernstein</td>\n",
       "      <td>TBA/Bernstein</td>\n",
       "    </tr>\n",
       "    <tr>\n",
       "      <th>118</th>\n",
       "      <td>CalTech</td>\n",
       "      <td>Omer Tamuz</td>\n",
       "      <td>TBA/Tamuz</td>\n",
       "    </tr>\n",
       "    <tr>\n",
       "      <th>119</th>\n",
       "      <td>Indiana University</td>\n",
       "      <td>Mike Jones</td>\n",
       "      <td>TBA/Jones</td>\n",
       "    </tr>\n",
       "    <tr>\n",
       "      <th>120</th>\n",
       "      <td>MIT</td>\n",
       "      <td>Drew Fudenberg</td>\n",
       "      <td>FUDENBERG--TBA</td>\n",
       "    </tr>\n",
       "    <tr>\n",
       "      <th>121</th>\n",
       "      <td>Washington University at St. Louis</td>\n",
       "      <td>Rachael Ruttan</td>\n",
       "      <td>TBA/Ruttman</td>\n",
       "    </tr>\n",
       "    <tr>\n",
       "      <th>122</th>\n",
       "      <td>UC</td>\n",
       "      <td>Clayton Critcher</td>\n",
       "      <td>TBA/Critcher</td>\n",
       "    </tr>\n",
       "    <tr>\n",
       "      <th>123</th>\n",
       "      <td>University of Pennsylvania</td>\n",
       "      <td>George Mailath</td>\n",
       "      <td>TBA/Mailath</td>\n",
       "    </tr>\n",
       "    <tr>\n",
       "      <th>124</th>\n",
       "      <td>Harvard Business School</td>\n",
       "      <td>Ethan  Bernstein</td>\n",
       "      <td>Bernstein - TBA</td>\n",
       "    </tr>\n",
       "    <tr>\n",
       "      <th>125</th>\n",
       "      <td>Stanford University</td>\n",
       "      <td>Luigi Pistaferri</td>\n",
       "      <td>Pistaferri--TBA</td>\n",
       "    </tr>\n",
       "    <tr>\n",
       "      <th>126</th>\n",
       "      <td>University of Michigan</td>\n",
       "      <td>Betsey Stevenson</td>\n",
       "      <td>STEVENSON--TBA</td>\n",
       "    </tr>\n",
       "    <tr>\n",
       "      <th>127</th>\n",
       "      <td>Northwestern University</td>\n",
       "      <td>Mar Reguant</td>\n",
       "      <td>Reguant-TBA</td>\n",
       "    </tr>\n",
       "    <tr>\n",
       "      <th>128</th>\n",
       "      <td>MIT</td>\n",
       "      <td>David Thesmar</td>\n",
       "      <td>TBA/Thesmar</td>\n",
       "    </tr>\n",
       "    <tr>\n",
       "      <th>129</th>\n",
       "      <td>Brown University</td>\n",
       "      <td>Jesse Shapiro</td>\n",
       "      <td>TBA/Shapiro</td>\n",
       "    </tr>\n",
       "    <tr>\n",
       "      <th>130</th>\n",
       "      <td>University of Toronto</td>\n",
       "      <td>Colin Stewart</td>\n",
       "      <td>STEWARD--TBA</td>\n",
       "    </tr>\n",
       "    <tr>\n",
       "      <th>131</th>\n",
       "      <td>Yale University</td>\n",
       "      <td>Aleh Tsyvinski</td>\n",
       "      <td>TBA/Tsyvinski</td>\n",
       "    </tr>\n",
       "    <tr>\n",
       "      <th>132</th>\n",
       "      <td>Paris School of Economics</td>\n",
       "      <td>Francis Bloch</td>\n",
       "      <td>TBA/Bloch</td>\n",
       "    </tr>\n",
       "    <tr>\n",
       "      <th>133</th>\n",
       "      <td>University of Arizona</td>\n",
       "      <td>Martin Dufwenberg</td>\n",
       "      <td>TBA/Dufwenberg</td>\n",
       "    </tr>\n",
       "    <tr>\n",
       "      <th>134</th>\n",
       "      <td>MIT</td>\n",
       "      <td>Xavier Giroud</td>\n",
       "      <td>TBA-Giroud</td>\n",
       "    </tr>\n",
       "    <tr>\n",
       "      <th>135</th>\n",
       "      <td>Columbia University</td>\n",
       "      <td>Peter Bergman</td>\n",
       "      <td>BERGMAN--TBA</td>\n",
       "    </tr>\n",
       "    <tr>\n",
       "      <th>136</th>\n",
       "      <td>University of Wisconsin</td>\n",
       "      <td>Oliver Levine</td>\n",
       "      <td>TBA/Levine</td>\n",
       "    </tr>\n",
       "    <tr>\n",
       "      <th>137</th>\n",
       "      <td>University of Hawaii</td>\n",
       "      <td>Ruben Juarez</td>\n",
       "      <td>TBA/Juarez</td>\n",
       "    </tr>\n",
       "    <tr>\n",
       "      <th>138</th>\n",
       "      <td>Northwestern University</td>\n",
       "      <td>Nour Sami Kteily</td>\n",
       "      <td>TBA/Kteily</td>\n",
       "    </tr>\n",
       "    <tr>\n",
       "      <th>139</th>\n",
       "      <td>University of Minnesota</td>\n",
       "      <td>Jeremy Lise</td>\n",
       "      <td>LISE--TBA</td>\n",
       "    </tr>\n",
       "    <tr>\n",
       "      <th>140</th>\n",
       "      <td>Carnegie Mellon University</td>\n",
       "      <td>Burton Hollifield</td>\n",
       "      <td>TBA/Burton Hollifield</td>\n",
       "    </tr>\n",
       "    <tr>\n",
       "      <th>141</th>\n",
       "      <td>Boston University</td>\n",
       "      <td>Robert Metcalfe</td>\n",
       "      <td>TBA/Metcalfe</td>\n",
       "    </tr>\n",
       "    <tr>\n",
       "      <th>142</th>\n",
       "      <td>University of California</td>\n",
       "      <td>Peter Rupert</td>\n",
       "      <td>TBA/Rupert</td>\n",
       "    </tr>\n",
       "    <tr>\n",
       "      <th>143</th>\n",
       "      <td>University of Notre Dame</td>\n",
       "      <td>Abigail Wozniak</td>\n",
       "      <td>Wozniak-TBA</td>\n",
       "    </tr>\n",
       "  </tbody>\n",
       "</table>\n",
       "<p>144 rows × 3 columns</p>\n",
       "</div>"
      ],
      "text/plain": [
       "                            institution                                 name  \\\n",
       "0            Carnegie Mellon University                           Leah Clark   \n",
       "1                              Columbia                       Douglas Almond   \n",
       "2                 University of Chicago                           Eric Zwick   \n",
       "3            Carnegie Mellon University                               Nam Ho   \n",
       "4                       Yale University                      Johannes Horner   \n",
       "5            Carnegie Mellon University                        Selcuk Ozyurt   \n",
       "6            Carnegie Mellon University  Elizabeth Campbell & Matthew Diabes   \n",
       "7               Northwestern University                     Nicolas  Crouzet   \n",
       "8            Carnegie Mellon University               Willem-Jan  van Hoeve    \n",
       "9                      Tufts Univresity                          Kelsey Jack   \n",
       "10           Carnegie Mellon University               Willem-Jan  van Hoeve    \n",
       "11                  Stanford University                       Ran Abramitsky   \n",
       "12               London Business School                          Alex Edmans   \n",
       "13                            NYU Stern               Gal Oestreicher-Singer   \n",
       "14                  Stanford University                          Dana Foarta   \n",
       "15                  Disney Research/CMU                          Maarten Bos   \n",
       "16           Carnegie Mellon University                     Alessandro Iorio   \n",
       "17           Carnegie Mellon University                          John Hooker   \n",
       "18   Washington University in St. Louis                     Stuart Bunderson   \n",
       "19           Visiting the Tepper School                      Stefan Lewellen   \n",
       "20                    Boston University                           Adam Guren   \n",
       "21                        PhD Candidate                         Jordan Bable   \n",
       "22             University of Pittsburgh                       Osea Giuntella   \n",
       "23           Carnegie Mellon University                        Yeonjeong Kim   \n",
       "24                University of Toronto                      Heski Bar-Isaac   \n",
       "25                      Rice University                           Cyrus Mody   \n",
       "26           Carnegie Mellon University                           Atanu Paul   \n",
       "27                  Stanford University                   Mohammad Akbarpout   \n",
       "28              University of Minnesota                      Kyle Herkenhoff   \n",
       "29                            NYU Stern                       Daria Dzyabura   \n",
       "..                                  ...                                  ...   \n",
       "114                                 IMF                      Sandra Lizarazo   \n",
       "115                  Rutgars University                        Laurie Rudman   \n",
       "116                Princeton University                         Janet Currie   \n",
       "117                 Stanford University                       Shai Bernstein   \n",
       "118                             CalTech                           Omer Tamuz   \n",
       "119                  Indiana University                           Mike Jones   \n",
       "120                                 MIT                       Drew Fudenberg   \n",
       "121  Washington University at St. Louis                       Rachael Ruttan   \n",
       "122                                  UC                     Clayton Critcher   \n",
       "123          University of Pennsylvania                       George Mailath   \n",
       "124             Harvard Business School                     Ethan  Bernstein   \n",
       "125                 Stanford University                     Luigi Pistaferri   \n",
       "126              University of Michigan                     Betsey Stevenson   \n",
       "127             Northwestern University                          Mar Reguant   \n",
       "128                                 MIT                        David Thesmar   \n",
       "129                    Brown University                        Jesse Shapiro   \n",
       "130               University of Toronto                        Colin Stewart   \n",
       "131                     Yale University                       Aleh Tsyvinski   \n",
       "132           Paris School of Economics                        Francis Bloch   \n",
       "133               University of Arizona                    Martin Dufwenberg   \n",
       "134                                 MIT                        Xavier Giroud   \n",
       "135                 Columbia University                        Peter Bergman   \n",
       "136             University of Wisconsin                        Oliver Levine   \n",
       "137                University of Hawaii                         Ruben Juarez   \n",
       "138             Northwestern University                     Nour Sami Kteily   \n",
       "139             University of Minnesota                          Jeremy Lise   \n",
       "140          Carnegie Mellon University                    Burton Hollifield   \n",
       "141                   Boston University                      Robert Metcalfe   \n",
       "142            University of California                         Peter Rupert   \n",
       "143            University of Notre Dame                      Abigail Wozniak   \n",
       "\n",
       "                                                 title  \n",
       "0    Dissertation Proposal: Three Essays on Economi...  \n",
       "1                                           Almond-TBA  \n",
       "2              Capitalists in the Twenty-First Century  \n",
       "3    Local Competition and Auditors Use of Non-Aud...  \n",
       "4    Keeping Your Story Straight: Truthtelling and ...  \n",
       "5    Upping the Ante: The Equilibrium Effects of Un...  \n",
       "6                                  TBA/Campbell-Diabes  \n",
       "7          Small & Large Firms Over The Business Cycle  \n",
       "8                   Decision Diagrams for Optimization  \n",
       "9                                            Jack--TBA  \n",
       "10                  Decision Diagrams for Optimization  \n",
       "11   Cultural Assimilation During The Two Ages Of M...  \n",
       "12   The Effect of Diversification on Price Informa...  \n",
       "13                                             Gal-TBA  \n",
       "14   Avoiding The Cost Of A Bad Hire: On The Optima...  \n",
       "15                                             TBA/Bos  \n",
       "16   The Valley of Trust: The Effect of Relational ...  \n",
       "17                                          TBA-Hooker  \n",
       "18                                       TBA-Bunderson  \n",
       "19                                        TBA/Lewellen  \n",
       "20                                          GUREN--TBA  \n",
       "21                  Final Dissertation Defense Meeting  \n",
       "22                                      GIUNTELLA--TBA  \n",
       "23   Dissertation Defense--Detecting the Moral Char...  \n",
       "24   Adverse Selection, Efficiency and the Structur...  \n",
       "25                                            Mody-TBA  \n",
       "26                                            TBA/Paul  \n",
       "27                                       TBA/Akbarpour  \n",
       "28                                      TBA/Herkenhoff  \n",
       "29   Capturing Heterogeneity Among Consumers with M...  \n",
       "..                                                 ...  \n",
       "114                                      Lizarazo--TBA  \n",
       "115                                         TBA/Rudman  \n",
       "116                                        CURRIE--TBA  \n",
       "117                                      TBA/Bernstein  \n",
       "118                                          TBA/Tamuz  \n",
       "119                                          TBA/Jones  \n",
       "120                                     FUDENBERG--TBA  \n",
       "121                                        TBA/Ruttman  \n",
       "122                                       TBA/Critcher  \n",
       "123                                        TBA/Mailath  \n",
       "124                                    Bernstein - TBA  \n",
       "125                                    Pistaferri--TBA  \n",
       "126                                     STEVENSON--TBA  \n",
       "127                                        Reguant-TBA  \n",
       "128                                        TBA/Thesmar  \n",
       "129                                        TBA/Shapiro  \n",
       "130                                       STEWARD--TBA  \n",
       "131                                      TBA/Tsyvinski  \n",
       "132                                          TBA/Bloch  \n",
       "133                                     TBA/Dufwenberg  \n",
       "134                                         TBA-Giroud  \n",
       "135                                       BERGMAN--TBA  \n",
       "136                                         TBA/Levine  \n",
       "137                                         TBA/Juarez  \n",
       "138                                         TBA/Kteily  \n",
       "139                                          LISE--TBA  \n",
       "140                              TBA/Burton Hollifield  \n",
       "141                                       TBA/Metcalfe  \n",
       "142                                         TBA/Rupert  \n",
       "143                                        Wozniak-TBA  \n",
       "\n",
       "[144 rows x 3 columns]"
      ]
     },
     "execution_count": 355,
     "metadata": {},
     "output_type": "execute_result"
    }
   ],
   "source": [
    "# pandas preview!\n",
    "df = pd.DataFrame.from_dict(tsums)\n",
    "df"
   ]
  },
  {
   "cell_type": "code",
   "execution_count": 260,
   "metadata": {},
   "outputs": [
    {
     "data": {
      "text/plain": [
       "institution\n",
       "Carnegie Mellon University                   20\n",
       "Stanford University                           7\n",
       "University of Chicago                         6\n",
       "Yale University                               5\n",
       "Columbia University                           5\n",
       "MIT                                           4\n",
       "Northwestern University                       4\n",
       "University of Pittsburgh                      4\n",
       "University of Michigan                        3\n",
       "Boston University                             3\n",
       "Cornell University                            3\n",
       "Harvard Business School                       3\n",
       "Harvard University                            3\n",
       "New York University                           3\n",
       "Princeton University                          3\n",
       "University of Toronto                         3\n",
       "NYU Stern                                     2\n",
       "University of Minnesota                       2\n",
       "Penn State                                    2\n",
       "Indiana University                            2\n",
       "University of Washington                      2\n",
       "UC                                            2\n",
       "Duke University                               2\n",
       "Dartmouth University                          1\n",
       "London Business School                        1\n",
       "Johns Hopkins Univ. Carey Business School     1\n",
       "IMF                                           1\n",
       "IBM Chief Environmental Executive             1\n",
       "University of Wisconsin                       1\n",
       "Federal Reserve Bank San Francisco            1\n",
       "                                             ..\n",
       "Boston College                                1\n",
       "Bocconi University                            1\n",
       "Dartmouth College                             1\n",
       "University of Rochester                       1\n",
       "Ohio State University                         1\n",
       "Paris School of Economics                     1\n",
       "University of Notre Dame                      1\n",
       "University of Kansas                          1\n",
       "University of Hawaii                          1\n",
       "University of Pennsylvania                    1\n",
       "University of California--Irvine              1\n",
       "University of California                      1\n",
       "University of Bocconi                         1\n",
       "University of Arizona                         1\n",
       "UCSB                                          1\n",
       "UCLA                                          1\n",
       "Tufts Univresity                              1\n",
       "The University of Chicago                     1\n",
       "The University of British Columbia            1\n",
       "Tel Aviv University                           1\n",
       "University of Pennsylvania-Wharton            1\n",
       "Stanford                                      1\n",
       "Rutgars University                            1\n",
       "Rice University                               1\n",
       "Purdue                                        1\n",
       "Yale                                          1\n",
       "Pomona College                                1\n",
       "PhD Candidate                                 1\n",
       "Penn State University                         1\n",
       "Baruch College                                1\n",
       "Length: 74, dtype: int64"
      ]
     },
     "execution_count": 260,
     "metadata": {},
     "output_type": "execute_result"
    }
   ],
   "source": [
    "# institution stats\n",
    "df.groupby('institution').size().sort_values(ascending=False)"
   ]
  },
  {
   "cell_type": "markdown",
   "metadata": {},
   "source": [
    "## Exercise 3"
   ]
  },
  {
   "cell_type": "markdown",
   "metadata": {},
   "source": [
    "Add in dates to the above!"
   ]
  },
  {
   "cell_type": "markdown",
   "metadata": {},
   "source": [
    "# Jupyter Tricks"
   ]
  },
  {
   "cell_type": "code",
   "execution_count": 93,
   "metadata": {},
   "outputs": [],
   "source": [
    "from IPython.core.display import display, HTML\n",
    "import ipywidgets as widgets\n",
    "from ipywidgets import interactive"
   ]
  },
  {
   "cell_type": "code",
   "execution_count": 94,
   "metadata": {},
   "outputs": [
    {
     "data": {
      "text/html": [
       "<b>Hello, world!</b>"
      ],
      "text/plain": [
       "<IPython.core.display.HTML object>"
      ]
     },
     "metadata": {},
     "output_type": "display_data"
    }
   ],
   "source": [
    "display(HTML('<b>Hello, world!</b>'))"
   ]
  },
  {
   "cell_type": "code",
   "execution_count": 95,
   "metadata": {},
   "outputs": [
    {
     "data": {
      "text/html": [
       "\n",
       "<table>\n",
       "<tr><th>a</th><th>b</th></tr>\n",
       "<tr><td>1</td><td>2</td></tr>\n",
       "<tr><td>3</td><td>4</td></tr>\n",
       "</table>\n"
      ],
      "text/plain": [
       "<IPython.core.display.HTML object>"
      ]
     },
     "metadata": {},
     "output_type": "display_data"
    }
   ],
   "source": [
    "display(HTML(\"\"\"\n",
    "<table>\n",
    "<tr><th>a</th><th>b</th></tr>\n",
    "<tr><td>1</td><td>2</td></tr>\n",
    "<tr><td>3</td><td>4</td></tr>\n",
    "</table>\n",
    "\"\"\"))"
   ]
  },
  {
   "cell_type": "code",
   "execution_count": 96,
   "metadata": {},
   "outputs": [],
   "source": [
    "dat = np.cumsum(np.random.randn(1000))"
   ]
  },
  {
   "cell_type": "code",
   "execution_count": 97,
   "metadata": {},
   "outputs": [
    {
     "data": {
      "application/vnd.jupyter.widget-view+json": {
       "model_id": "ee7c00333c4244cf8c845c9ed1cf864d",
       "version_major": 2,
       "version_minor": 0
      },
      "text/html": [
       "<p>Failed to display Jupyter Widget of type <code>interactive</code>.</p>\n",
       "<p>\n",
       "  If you're reading this message in Jupyter Notebook or JupyterLab, it may mean\n",
       "  that the widgets JavaScript is still loading. If this message persists, it\n",
       "  likely means that the widgets JavaScript library is either not installed or\n",
       "  not enabled. See the <a href=\"https://ipywidgets.readthedocs.io/en/stable/user_install.html\">Jupyter\n",
       "  Widgets Documentation</a> for setup instructions.\n",
       "</p>\n",
       "<p>\n",
       "  If you're reading this message in another notebook frontend (for example, a static\n",
       "  rendering on GitHub or <a href=\"https://nbviewer.jupyter.org/\">NBViewer</a>),\n",
       "  it may mean that your frontend doesn't currently support widgets.\n",
       "</p>\n"
      ],
      "text/plain": [
       "interactive(children=(IntSlider(value=250, description='p', max=500, min=1), Output()), _dom_classes=('widget-interact',))"
      ]
     },
     "metadata": {},
     "output_type": "display_data"
    }
   ],
   "source": [
    "def smoothed(p):\n",
    "    plt.plot(pd.Series(dat).rolling(p).mean())\n",
    "    plt.show()\n",
    "interactive(smoothed, p=(1, 500))"
   ]
  },
  {
   "cell_type": "code",
   "execution_count": 13,
   "metadata": {},
   "outputs": [
    {
     "data": {
      "application/vnd.jupyter.widget-view+json": {
       "model_id": "d5d0ee4bb0c1452095696d46a42764c4",
       "version_major": 2,
       "version_minor": 0
      },
      "text/html": [
       "<p>Failed to display Jupyter Widget of type <code>interactive</code>.</p>\n",
       "<p>\n",
       "  If you're reading this message in Jupyter Notebook or JupyterLab, it may mean\n",
       "  that the widgets JavaScript is still loading. If this message persists, it\n",
       "  likely means that the widgets JavaScript library is either not installed or\n",
       "  not enabled. See the <a href=\"https://ipywidgets.readthedocs.io/en/stable/user_install.html\">Jupyter\n",
       "  Widgets Documentation</a> for setup instructions.\n",
       "</p>\n",
       "<p>\n",
       "  If you're reading this message in another notebook frontend (for example, a static\n",
       "  rendering on GitHub or <a href=\"https://nbviewer.jupyter.org/\">NBViewer</a>),\n",
       "  it may mean that your frontend doesn't currently support widgets.\n",
       "</p>\n"
      ],
      "text/plain": [
       "interactive(children=(IntSlider(value=20, description='wind', max=200, step=10), Output()), layout=Layout(height='300px'), _dom_classes=('widget-interact',))"
      ]
     },
     "metadata": {},
     "output_type": "display_data"
    }
   ],
   "source": [
    "# much slicker version\n",
    "ymin, ymax = np.min(dat), np.max(dat)\n",
    "yrange = ymax - ymin\n",
    "ymin -= 0.1*yrange\n",
    "ymax += 0.1*yrange\n",
    "def smoothed(wind):\n",
    "    wind = max(1, wind)\n",
    "    fig, ax = plt.subplots()\n",
    "    pd.Series(dat).rolling(wind, min_periods=0, center=True).mean().plot(ax=ax)\n",
    "    ax.set_ylim(ymin, ymax)\n",
    "    plt.show()\n",
    "slider = widgets.IntSlider(min=0, max=200, step=10, value=20)\n",
    "interactive_plot = interactive(smoothed, wind=slider)\n",
    "interactive_plot.layout.height = '300px'\n",
    "interactive_plot"
   ]
  },
  {
   "cell_type": "markdown",
   "metadata": {},
   "source": [
    "# Other Resources"
   ]
  },
  {
   "cell_type": "markdown",
   "metadata": {},
   "source": [
    "Amazing and fun talk by David Beazley on practical Python usage: https://www.youtube.com/watch?v=lyDLAutA88s"
   ]
  },
  {
   "cell_type": "code",
   "execution_count": 98,
   "metadata": {},
   "outputs": [],
   "source": [
    "import scipy.optimize as opt"
   ]
  },
  {
   "cell_type": "code",
   "execution_count": 102,
   "metadata": {},
   "outputs": [
    {
     "data": {
      "text/plain": [
       "\u001b[0;31mSignature:\u001b[0m \u001b[0mopt\u001b[0m\u001b[0;34m.\u001b[0m\u001b[0mfsolve\u001b[0m\u001b[0;34m(\u001b[0m\u001b[0mfunc\u001b[0m\u001b[0;34m,\u001b[0m \u001b[0mx0\u001b[0m\u001b[0;34m,\u001b[0m \u001b[0margs\u001b[0m\u001b[0;34m=\u001b[0m\u001b[0;34m(\u001b[0m\u001b[0;34m)\u001b[0m\u001b[0;34m,\u001b[0m \u001b[0mfprime\u001b[0m\u001b[0;34m=\u001b[0m\u001b[0;32mNone\u001b[0m\u001b[0;34m,\u001b[0m \u001b[0mfull_output\u001b[0m\u001b[0;34m=\u001b[0m\u001b[0;36m0\u001b[0m\u001b[0;34m,\u001b[0m \u001b[0mcol_deriv\u001b[0m\u001b[0;34m=\u001b[0m\u001b[0;36m0\u001b[0m\u001b[0;34m,\u001b[0m \u001b[0mxtol\u001b[0m\u001b[0;34m=\u001b[0m\u001b[0;36m1.49012e-08\u001b[0m\u001b[0;34m,\u001b[0m \u001b[0mmaxfev\u001b[0m\u001b[0;34m=\u001b[0m\u001b[0;36m0\u001b[0m\u001b[0;34m,\u001b[0m \u001b[0mband\u001b[0m\u001b[0;34m=\u001b[0m\u001b[0;32mNone\u001b[0m\u001b[0;34m,\u001b[0m \u001b[0mepsfcn\u001b[0m\u001b[0;34m=\u001b[0m\u001b[0;32mNone\u001b[0m\u001b[0;34m,\u001b[0m \u001b[0mfactor\u001b[0m\u001b[0;34m=\u001b[0m\u001b[0;36m100\u001b[0m\u001b[0;34m,\u001b[0m \u001b[0mdiag\u001b[0m\u001b[0;34m=\u001b[0m\u001b[0;32mNone\u001b[0m\u001b[0;34m)\u001b[0m\u001b[0;34m\u001b[0m\u001b[0m\n",
       "\u001b[0;31mDocstring:\u001b[0m\n",
       "Find the roots of a function.\n",
       "\n",
       "Return the roots of the (non-linear) equations defined by\n",
       "``func(x) = 0`` given a starting estimate.\n",
       "\n",
       "Parameters\n",
       "----------\n",
       "func : callable ``f(x, *args)``\n",
       "    A function that takes at least one (possibly vector) argument.\n",
       "x0 : ndarray\n",
       "    The starting estimate for the roots of ``func(x) = 0``.\n",
       "args : tuple, optional\n",
       "    Any extra arguments to `func`.\n",
       "fprime : callable(x), optional\n",
       "    A function to compute the Jacobian of `func` with derivatives\n",
       "    across the rows. By default, the Jacobian will be estimated.\n",
       "full_output : bool, optional\n",
       "    If True, return optional outputs.\n",
       "col_deriv : bool, optional\n",
       "    Specify whether the Jacobian function computes derivatives down\n",
       "    the columns (faster, because there is no transpose operation).\n",
       "xtol : float, optional\n",
       "    The calculation will terminate if the relative error between two\n",
       "    consecutive iterates is at most `xtol`.\n",
       "maxfev : int, optional\n",
       "    The maximum number of calls to the function. If zero, then\n",
       "    ``100*(N+1)`` is the maximum where N is the number of elements\n",
       "    in `x0`.\n",
       "band : tuple, optional\n",
       "    If set to a two-sequence containing the number of sub- and\n",
       "    super-diagonals within the band of the Jacobi matrix, the\n",
       "    Jacobi matrix is considered banded (only for ``fprime=None``).\n",
       "epsfcn : float, optional\n",
       "    A suitable step length for the forward-difference\n",
       "    approximation of the Jacobian (for ``fprime=None``). If\n",
       "    `epsfcn` is less than the machine precision, it is assumed\n",
       "    that the relative errors in the functions are of the order of\n",
       "    the machine precision.\n",
       "factor : float, optional\n",
       "    A parameter determining the initial step bound\n",
       "    (``factor * || diag * x||``).  Should be in the interval\n",
       "    ``(0.1, 100)``.\n",
       "diag : sequence, optional\n",
       "    N positive entries that serve as a scale factors for the\n",
       "    variables.\n",
       "\n",
       "Returns\n",
       "-------\n",
       "x : ndarray\n",
       "    The solution (or the result of the last iteration for\n",
       "    an unsuccessful call).\n",
       "infodict : dict\n",
       "    A dictionary of optional outputs with the keys:\n",
       "\n",
       "    ``nfev``\n",
       "        number of function calls\n",
       "    ``njev``\n",
       "        number of Jacobian calls\n",
       "    ``fvec``\n",
       "        function evaluated at the output\n",
       "    ``fjac``\n",
       "        the orthogonal matrix, q, produced by the QR\n",
       "        factorization of the final approximate Jacobian\n",
       "        matrix, stored column wise\n",
       "    ``r``\n",
       "        upper triangular matrix produced by QR factorization\n",
       "        of the same matrix\n",
       "    ``qtf``\n",
       "        the vector ``(transpose(q) * fvec)``\n",
       "\n",
       "ier : int\n",
       "    An integer flag.  Set to 1 if a solution was found, otherwise refer\n",
       "    to `mesg` for more information.\n",
       "mesg : str\n",
       "    If no solution is found, `mesg` details the cause of failure.\n",
       "\n",
       "See Also\n",
       "--------\n",
       "root : Interface to root finding algorithms for multivariate\n",
       "functions. See the 'hybr' `method` in particular.\n",
       "\n",
       "Notes\n",
       "-----\n",
       "``fsolve`` is a wrapper around MINPACK's hybrd and hybrj algorithms.\n",
       "\u001b[0;31mFile:\u001b[0m      ~/Library/Python/3.6/lib/python/site-packages/scipy/optimize/minpack.py\n",
       "\u001b[0;31mType:\u001b[0m      function\n"
      ]
     },
     "metadata": {},
     "output_type": "display_data"
    }
   ],
   "source": [
    "opt.fsolve?"
   ]
  },
  {
   "cell_type": "code",
   "execution_count": null,
   "metadata": {},
   "outputs": [],
   "source": []
  }
 ],
 "metadata": {
  "kernelspec": {
   "display_name": "Python 3",
   "language": "python",
   "name": "python3"
  },
  "language_info": {
   "codemirror_mode": {
    "name": "ipython",
    "version": 3
   },
   "file_extension": ".py",
   "mimetype": "text/x-python",
   "name": "python",
   "nbconvert_exporter": "python",
   "pygments_lexer": "ipython3",
   "version": "3.6.2"
  }
 },
 "nbformat": 4,
 "nbformat_minor": 2
}

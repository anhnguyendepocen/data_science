{
 "cells": [
  {
   "cell_type": "markdown",
   "metadata": {},
   "source": [
    "# Working With Data"
   ]
  },
  {
   "cell_type": "code",
   "execution_count": 1,
   "metadata": {},
   "outputs": [],
   "source": [
    "import numpy as np\n",
    "import pandas as pd\n",
    "import matplotlib.pyplot as plt\n",
    "import seaborn as sns\n",
    "import statsmodels.formula.api as smf\n",
    "import tensorflow as tf\n",
    "%matplotlib inline"
   ]
  },
  {
   "cell_type": "markdown",
   "metadata": {},
   "source": [
    "# Pandas!"
   ]
  },
  {
   "cell_type": "markdown",
   "metadata": {},
   "source": [
    "## DataFrame"
   ]
  },
  {
   "cell_type": "code",
   "execution_count": 112,
   "metadata": {},
   "outputs": [
    {
     "data": {
      "text/plain": [
       "0     0.088114\n",
       "1     0.407038\n",
       "2     0.759186\n",
       "3     0.635809\n",
       "4     0.570806\n",
       "5     0.137096\n",
       "6     0.120503\n",
       "7     0.701027\n",
       "8     0.446805\n",
       "9     0.417156\n",
       "10    0.863950\n",
       "11    0.040791\n",
       "12    0.640582\n",
       "13    0.070856\n",
       "14    0.011636\n",
       "15    0.975816\n",
       "16    0.047596\n",
       "17    0.137883\n",
       "18    0.435957\n",
       "19    0.326004\n",
       "dtype: float64"
      ]
     },
     "execution_count": 112,
     "metadata": {},
     "output_type": "execute_result"
    }
   ],
   "source": [
    "s = pd.Series(np.random.rand(20))\n",
    "s"
   ]
  },
  {
   "cell_type": "code",
   "execution_count": 9,
   "metadata": {},
   "outputs": [
    {
     "name": "stdout",
     "output_type": "stream",
     "text": [
      "RangeIndex(start=0, stop=20, step=1)\n",
      "[ 0.5206791   0.46713023  0.72747643  0.13477516  0.8369139   0.97590977\n",
      "  0.40017438  0.67559899  0.55187907  0.28172635  0.94498738  0.45770794\n",
      "  0.32254568  0.6693352   0.66279005  0.10255661  0.60268569  0.44172566\n",
      "  0.90041708  0.94223578]\n"
     ]
    }
   ],
   "source": [
    "print(s.index)\n",
    "print(s.values)"
   ]
  },
  {
   "cell_type": "code",
   "execution_count": 10,
   "metadata": {},
   "outputs": [
    {
     "data": {
      "text/plain": [
       "count    20.000000\n",
       "mean      0.580963\n",
       "std       0.261670\n",
       "min       0.102557\n",
       "25%       0.431338\n",
       "50%       0.577282\n",
       "75%       0.754836\n",
       "max       0.975910\n",
       "dtype: float64"
      ]
     },
     "execution_count": 10,
     "metadata": {},
     "output_type": "execute_result"
    }
   ],
   "source": [
    "s.describe()"
   ]
  },
  {
   "cell_type": "code",
   "execution_count": 110,
   "metadata": {},
   "outputs": [
    {
     "data": {
      "text/html": [
       "<div>\n",
       "<style>\n",
       "    .dataframe thead tr:only-child th {\n",
       "        text-align: right;\n",
       "    }\n",
       "\n",
       "    .dataframe thead th {\n",
       "        text-align: left;\n",
       "    }\n",
       "\n",
       "    .dataframe tbody tr th {\n",
       "        vertical-align: top;\n",
       "    }\n",
       "</style>\n",
       "<table border=\"1\" class=\"dataframe\">\n",
       "  <thead>\n",
       "    <tr style=\"text-align: right;\">\n",
       "      <th></th>\n",
       "      <th>ser1</th>\n",
       "      <th>ser2</th>\n",
       "    </tr>\n",
       "  </thead>\n",
       "  <tbody>\n",
       "    <tr>\n",
       "      <th>0</th>\n",
       "      <td>0.520679</td>\n",
       "      <td>-0.007865</td>\n",
       "    </tr>\n",
       "    <tr>\n",
       "      <th>1</th>\n",
       "      <td>0.467130</td>\n",
       "      <td>-0.027841</td>\n",
       "    </tr>\n",
       "    <tr>\n",
       "      <th>2</th>\n",
       "      <td>0.727476</td>\n",
       "      <td>-0.652421</td>\n",
       "    </tr>\n",
       "    <tr>\n",
       "      <th>3</th>\n",
       "      <td>0.134775</td>\n",
       "      <td>-1.365230</td>\n",
       "    </tr>\n",
       "    <tr>\n",
       "      <th>4</th>\n",
       "      <td>0.836914</td>\n",
       "      <td>-0.528210</td>\n",
       "    </tr>\n",
       "  </tbody>\n",
       "</table>\n",
       "</div>"
      ],
      "text/plain": [
       "       ser1      ser2\n",
       "0  0.520679 -0.007865\n",
       "1  0.467130 -0.027841\n",
       "2  0.727476 -0.652421\n",
       "3  0.134775 -1.365230\n",
       "4  0.836914 -0.528210"
      ]
     },
     "execution_count": 110,
     "metadata": {},
     "output_type": "execute_result"
    }
   ],
   "source": [
    "df = pd.DataFrame({'ser1': s, 'ser2': np.random.randn(20)})\n",
    "df.head()"
   ]
  },
  {
   "cell_type": "code",
   "execution_count": 13,
   "metadata": {},
   "outputs": [
    {
     "data": {
      "text/html": [
       "<div>\n",
       "<style>\n",
       "    .dataframe thead tr:only-child th {\n",
       "        text-align: right;\n",
       "    }\n",
       "\n",
       "    .dataframe thead th {\n",
       "        text-align: left;\n",
       "    }\n",
       "\n",
       "    .dataframe tbody tr th {\n",
       "        vertical-align: top;\n",
       "    }\n",
       "</style>\n",
       "<table border=\"1\" class=\"dataframe\">\n",
       "  <thead>\n",
       "    <tr style=\"text-align: right;\">\n",
       "      <th></th>\n",
       "      <th>ser1</th>\n",
       "      <th>ser2</th>\n",
       "    </tr>\n",
       "  </thead>\n",
       "  <tbody>\n",
       "    <tr>\n",
       "      <th>count</th>\n",
       "      <td>20.000000</td>\n",
       "      <td>20.000000</td>\n",
       "    </tr>\n",
       "    <tr>\n",
       "      <th>mean</th>\n",
       "      <td>0.580963</td>\n",
       "      <td>-0.114112</td>\n",
       "    </tr>\n",
       "    <tr>\n",
       "      <th>std</th>\n",
       "      <td>0.261670</td>\n",
       "      <td>0.925484</td>\n",
       "    </tr>\n",
       "    <tr>\n",
       "      <th>min</th>\n",
       "      <td>0.102557</td>\n",
       "      <td>-1.677225</td>\n",
       "    </tr>\n",
       "    <tr>\n",
       "      <th>25%</th>\n",
       "      <td>0.431338</td>\n",
       "      <td>-0.759942</td>\n",
       "    </tr>\n",
       "    <tr>\n",
       "      <th>50%</th>\n",
       "      <td>0.577282</td>\n",
       "      <td>-0.369342</td>\n",
       "    </tr>\n",
       "    <tr>\n",
       "      <th>75%</th>\n",
       "      <td>0.754836</td>\n",
       "      <td>0.459733</td>\n",
       "    </tr>\n",
       "    <tr>\n",
       "      <th>max</th>\n",
       "      <td>0.975910</td>\n",
       "      <td>1.839816</td>\n",
       "    </tr>\n",
       "  </tbody>\n",
       "</table>\n",
       "</div>"
      ],
      "text/plain": [
       "            ser1       ser2\n",
       "count  20.000000  20.000000\n",
       "mean    0.580963  -0.114112\n",
       "std     0.261670   0.925484\n",
       "min     0.102557  -1.677225\n",
       "25%     0.431338  -0.759942\n",
       "50%     0.577282  -0.369342\n",
       "75%     0.754836   0.459733\n",
       "max     0.975910   1.839816"
      ]
     },
     "execution_count": 13,
     "metadata": {},
     "output_type": "execute_result"
    }
   ],
   "source": [
    "df.describe()"
   ]
  },
  {
   "cell_type": "code",
   "execution_count": 16,
   "metadata": {},
   "outputs": [
    {
     "data": {
      "text/plain": [
       "<matplotlib.axes._subplots.AxesSubplot at 0x7ff09c006438>"
      ]
     },
     "execution_count": 16,
     "metadata": {},
     "output_type": "execute_result"
    },
    {
     "data": {
      "image/png": "[encoded data removed]",
      "text/plain": [
       "<matplotlib.figure.Figure at 0x7ff0d928c438>"
      ]
     },
     "metadata": {},
     "output_type": "display_data"
    }
   ],
   "source": [
    "df.plot()"
   ]
  },
  {
   "cell_type": "code",
   "execution_count": 23,
   "metadata": {},
   "outputs": [
    {
     "data": {
      "text/plain": [
       "0     0.520679\n",
       "1     0.467130\n",
       "2     0.727476\n",
       "3     0.134775\n",
       "4     0.836914\n",
       "5     0.975910\n",
       "6     0.400174\n",
       "7     0.675599\n",
       "8     0.551879\n",
       "9     0.281726\n",
       "10    0.944987\n",
       "11    0.457708\n",
       "12    0.322546\n",
       "13    0.669335\n",
       "14    0.662790\n",
       "15    0.102557\n",
       "16    0.602686\n",
       "17    0.441726\n",
       "18    0.900417\n",
       "19    0.942236\n",
       "Name: ser1, dtype: float64"
      ]
     },
     "execution_count": 23,
     "metadata": {},
     "output_type": "execute_result"
    }
   ],
   "source": [
    "df['ser1']"
   ]
  },
  {
   "cell_type": "code",
   "execution_count": 25,
   "metadata": {},
   "outputs": [
    {
     "data": {
      "image/png": "[encoded data removed]",
      "text/plain": [
       "<matplotlib.figure.Figure at 0x7ff09b243fd0>"
      ]
     },
     "metadata": {},
     "output_type": "display_data"
    }
   ],
   "source": [
    "df['ser1'].hist(grid=False);"
   ]
  },
  {
   "cell_type": "markdown",
   "metadata": {},
   "source": [
    "## Grouping Data"
   ]
  },
  {
   "cell_type": "code",
   "execution_count": 16,
   "metadata": {},
   "outputs": [],
   "source": [
    "# make some fake data\n",
    "N = 100\n",
    "block = np.random.randint(4, size=N)\n",
    "cmean = np.array([0.1, 0.2, 0.3, 0.4])\n",
    "cvars = np.array([0.2, 0.1, 0.5, 0.2])\n",
    "value = cmean[block]+np.random.randn(N)*cvars[block]\n",
    "df = pd.DataFrame({\n",
    "    'block': block,\n",
    "    'value': value\n",
    "})"
   ]
  },
  {
   "cell_type": "code",
   "execution_count": 17,
   "metadata": {},
   "outputs": [
    {
     "data": {
      "text/html": [
       "<div>\n",
       "<style>\n",
       "    .dataframe thead tr:only-child th {\n",
       "        text-align: right;\n",
       "    }\n",
       "\n",
       "    .dataframe thead th {\n",
       "        text-align: left;\n",
       "    }\n",
       "\n",
       "    .dataframe tbody tr th {\n",
       "        vertical-align: top;\n",
       "    }\n",
       "</style>\n",
       "<table border=\"1\" class=\"dataframe\">\n",
       "  <thead>\n",
       "    <tr style=\"text-align: right;\">\n",
       "      <th></th>\n",
       "      <th>block</th>\n",
       "      <th>value</th>\n",
       "    </tr>\n",
       "  </thead>\n",
       "  <tbody>\n",
       "    <tr>\n",
       "      <th>0</th>\n",
       "      <td>0</td>\n",
       "      <td>0.302365</td>\n",
       "    </tr>\n",
       "    <tr>\n",
       "      <th>1</th>\n",
       "      <td>1</td>\n",
       "      <td>0.161695</td>\n",
       "    </tr>\n",
       "    <tr>\n",
       "      <th>2</th>\n",
       "      <td>3</td>\n",
       "      <td>-0.013308</td>\n",
       "    </tr>\n",
       "    <tr>\n",
       "      <th>3</th>\n",
       "      <td>1</td>\n",
       "      <td>0.132124</td>\n",
       "    </tr>\n",
       "    <tr>\n",
       "      <th>4</th>\n",
       "      <td>0</td>\n",
       "      <td>-0.123105</td>\n",
       "    </tr>\n",
       "    <tr>\n",
       "      <th>5</th>\n",
       "      <td>0</td>\n",
       "      <td>0.049604</td>\n",
       "    </tr>\n",
       "    <tr>\n",
       "      <th>6</th>\n",
       "      <td>0</td>\n",
       "      <td>-0.064372</td>\n",
       "    </tr>\n",
       "    <tr>\n",
       "      <th>7</th>\n",
       "      <td>1</td>\n",
       "      <td>0.101149</td>\n",
       "    </tr>\n",
       "    <tr>\n",
       "      <th>8</th>\n",
       "      <td>2</td>\n",
       "      <td>-0.303775</td>\n",
       "    </tr>\n",
       "    <tr>\n",
       "      <th>9</th>\n",
       "      <td>3</td>\n",
       "      <td>0.537266</td>\n",
       "    </tr>\n",
       "  </tbody>\n",
       "</table>\n",
       "</div>"
      ],
      "text/plain": [
       "   block     value\n",
       "0      0  0.302365\n",
       "1      1  0.161695\n",
       "2      3 -0.013308\n",
       "3      1  0.132124\n",
       "4      0 -0.123105\n",
       "5      0  0.049604\n",
       "6      0 -0.064372\n",
       "7      1  0.101149\n",
       "8      2 -0.303775\n",
       "9      3  0.537266"
      ]
     },
     "execution_count": 17,
     "metadata": {},
     "output_type": "execute_result"
    }
   ],
   "source": [
    "df.head(10)"
   ]
  },
  {
   "cell_type": "code",
   "execution_count": 18,
   "metadata": {},
   "outputs": [
    {
     "data": {
      "text/plain": [
       "block\n",
       "0    22\n",
       "1    29\n",
       "2    24\n",
       "3    25\n",
       "dtype: int64"
      ]
     },
     "execution_count": 18,
     "metadata": {},
     "output_type": "execute_result"
    }
   ],
   "source": [
    "df.groupby('block').size()"
   ]
  },
  {
   "cell_type": "code",
   "execution_count": 19,
   "metadata": {},
   "outputs": [
    {
     "data": {
      "text/plain": [
       "block\n",
       "0    0.039905\n",
       "1    0.156842\n",
       "2    0.183743\n",
       "3    0.367526\n",
       "Name: value, dtype: float64"
      ]
     },
     "execution_count": 19,
     "metadata": {},
     "output_type": "execute_result"
    }
   ],
   "source": [
    "df.groupby('block')['value'].mean()"
   ]
  },
  {
   "cell_type": "code",
   "execution_count": 20,
   "metadata": {},
   "outputs": [
    {
     "data": {
      "text/plain": [
       "block\n",
       "0    0.195009\n",
       "1    0.103367\n",
       "2    0.543198\n",
       "3    0.206642\n",
       "Name: value, dtype: float64"
      ]
     },
     "execution_count": 20,
     "metadata": {},
     "output_type": "execute_result"
    }
   ],
   "source": [
    "df.groupby('block')['value'].std()"
   ]
  },
  {
   "cell_type": "code",
   "execution_count": 21,
   "metadata": {},
   "outputs": [
    {
     "data": {
      "text/plain": [
       "block\n",
       "0    0.145245\n",
       "1    0.082275\n",
       "2    0.448005\n",
       "3    0.156641\n",
       "Name: value, dtype: float64"
      ]
     },
     "execution_count": 21,
     "metadata": {},
     "output_type": "execute_result"
    }
   ],
   "source": [
    "df.groupby('block')['value'].apply(lambda x: np.mean(np.abs(x-np.mean(x))))"
   ]
  },
  {
   "cell_type": "code",
   "execution_count": 22,
   "metadata": {},
   "outputs": [
    {
     "data": {
      "text/html": [
       "<div>\n",
       "<style>\n",
       "    .dataframe thead tr:only-child th {\n",
       "        text-align: right;\n",
       "    }\n",
       "\n",
       "    .dataframe thead th {\n",
       "        text-align: left;\n",
       "    }\n",
       "\n",
       "    .dataframe tbody tr th {\n",
       "        vertical-align: top;\n",
       "    }\n",
       "</style>\n",
       "<table border=\"1\" class=\"dataframe\">\n",
       "  <thead>\n",
       "    <tr style=\"text-align: right;\">\n",
       "      <th></th>\n",
       "      <th>absd</th>\n",
       "      <th>mean</th>\n",
       "      <th>stdv</th>\n",
       "    </tr>\n",
       "    <tr>\n",
       "      <th>block</th>\n",
       "      <th></th>\n",
       "      <th></th>\n",
       "      <th></th>\n",
       "    </tr>\n",
       "  </thead>\n",
       "  <tbody>\n",
       "    <tr>\n",
       "      <th>0</th>\n",
       "      <td>0.145245</td>\n",
       "      <td>0.039905</td>\n",
       "      <td>0.195009</td>\n",
       "    </tr>\n",
       "    <tr>\n",
       "      <th>1</th>\n",
       "      <td>0.082275</td>\n",
       "      <td>0.156842</td>\n",
       "      <td>0.103367</td>\n",
       "    </tr>\n",
       "    <tr>\n",
       "      <th>2</th>\n",
       "      <td>0.448005</td>\n",
       "      <td>0.183743</td>\n",
       "      <td>0.543198</td>\n",
       "    </tr>\n",
       "    <tr>\n",
       "      <th>3</th>\n",
       "      <td>0.156641</td>\n",
       "      <td>0.367526</td>\n",
       "      <td>0.206642</td>\n",
       "    </tr>\n",
       "  </tbody>\n",
       "</table>\n",
       "</div>"
      ],
      "text/plain": [
       "           absd      mean      stdv\n",
       "block                              \n",
       "0      0.145245  0.039905  0.195009\n",
       "1      0.082275  0.156842  0.103367\n",
       "2      0.448005  0.183743  0.543198\n",
       "3      0.156641  0.367526  0.206642"
      ]
     },
     "execution_count": 22,
     "metadata": {},
     "output_type": "execute_result"
    }
   ],
   "source": [
    "grp = df.groupby('block')['value']\n",
    "pd.DataFrame({\n",
    "    'mean': grp.mean(),\n",
    "    'stdv': grp.std(),\n",
    "    'absd': grp.apply(lambda x: np.mean(np.abs(x-np.mean(x))))\n",
    "})"
   ]
  },
  {
   "cell_type": "markdown",
   "metadata": {},
   "source": [
    "## Time Series"
   ]
  },
  {
   "cell_type": "code",
   "execution_count": 67,
   "metadata": {},
   "outputs": [],
   "source": [
    "days = pd.date_range('2016-01-01', '2016-12-31', freq='D')\n",
    "vals = np.cumsum(np.random.randn(len(days)))\n",
    "df = pd.DataFrame({\n",
    "    'date': days,\n",
    "    'price': vals\n",
    "}).set_index('date')"
   ]
  },
  {
   "cell_type": "code",
   "execution_count": 68,
   "metadata": {},
   "outputs": [
    {
     "data": {
      "image/png": "[encoded data removed]",
      "text/plain": [
       "<matplotlib.figure.Figure at 0x7ff09b75a9b0>"
      ]
     },
     "metadata": {},
     "output_type": "display_data"
    }
   ],
   "source": [
    "df.plot(legend=False);"
   ]
  },
  {
   "cell_type": "code",
   "execution_count": 92,
   "metadata": {},
   "outputs": [
    {
     "data": {
      "text/html": [
       "<div>\n",
       "<style>\n",
       "    .dataframe thead tr:only-child th {\n",
       "        text-align: right;\n",
       "    }\n",
       "\n",
       "    .dataframe thead th {\n",
       "        text-align: left;\n",
       "    }\n",
       "\n",
       "    .dataframe tbody tr th {\n",
       "        vertical-align: top;\n",
       "    }\n",
       "</style>\n",
       "<table border=\"1\" class=\"dataframe\">\n",
       "  <thead>\n",
       "    <tr style=\"text-align: right;\">\n",
       "      <th></th>\n",
       "      <th>price</th>\n",
       "    </tr>\n",
       "    <tr>\n",
       "      <th>date</th>\n",
       "      <th></th>\n",
       "    </tr>\n",
       "  </thead>\n",
       "  <tbody>\n",
       "    <tr>\n",
       "      <th>2016-01-01</th>\n",
       "      <td>3.365145</td>\n",
       "    </tr>\n",
       "    <tr>\n",
       "      <th>2016-02-01</th>\n",
       "      <td>1.528464</td>\n",
       "    </tr>\n",
       "    <tr>\n",
       "      <th>2016-03-01</th>\n",
       "      <td>0.822388</td>\n",
       "    </tr>\n",
       "    <tr>\n",
       "      <th>2016-04-01</th>\n",
       "      <td>4.223977</td>\n",
       "    </tr>\n",
       "    <tr>\n",
       "      <th>2016-05-01</th>\n",
       "      <td>1.636109</td>\n",
       "    </tr>\n",
       "    <tr>\n",
       "      <th>2016-06-01</th>\n",
       "      <td>1.236107</td>\n",
       "    </tr>\n",
       "    <tr>\n",
       "      <th>2016-07-01</th>\n",
       "      <td>1.149879</td>\n",
       "    </tr>\n",
       "    <tr>\n",
       "      <th>2016-08-01</th>\n",
       "      <td>0.918116</td>\n",
       "    </tr>\n",
       "    <tr>\n",
       "      <th>2016-09-01</th>\n",
       "      <td>1.840545</td>\n",
       "    </tr>\n",
       "    <tr>\n",
       "      <th>2016-10-01</th>\n",
       "      <td>2.521930</td>\n",
       "    </tr>\n",
       "    <tr>\n",
       "      <th>2016-11-01</th>\n",
       "      <td>2.341510</td>\n",
       "    </tr>\n",
       "    <tr>\n",
       "      <th>2016-12-01</th>\n",
       "      <td>2.874092</td>\n",
       "    </tr>\n",
       "  </tbody>\n",
       "</table>\n",
       "</div>"
      ],
      "text/plain": [
       "               price\n",
       "date                \n",
       "2016-01-01  3.365145\n",
       "2016-02-01  1.528464\n",
       "2016-03-01  0.822388\n",
       "2016-04-01  4.223977\n",
       "2016-05-01  1.636109\n",
       "2016-06-01  1.236107\n",
       "2016-07-01  1.149879\n",
       "2016-08-01  0.918116\n",
       "2016-09-01  1.840545\n",
       "2016-10-01  2.521930\n",
       "2016-11-01  2.341510\n",
       "2016-12-01  2.874092"
      ]
     },
     "execution_count": 92,
     "metadata": {},
     "output_type": "execute_result"
    }
   ],
   "source": [
    "df.groupby(pd.TimeGrouper('MS')).std()"
   ]
  },
  {
   "cell_type": "code",
   "execution_count": 102,
   "metadata": {},
   "outputs": [
    {
     "data": {
      "image/png": "[encoded data removed]",
      "text/plain": [
       "<matplotlib.figure.Figure at 0x7ff09aba1b38>"
      ]
     },
     "metadata": {},
     "output_type": "display_data"
    }
   ],
   "source": [
    "df.rolling(20, center=True, min_periods=1).mean().plot(legend=False);"
   ]
  },
  {
   "cell_type": "markdown",
   "metadata": {},
   "source": [
    "## Transforming"
   ]
  },
  {
   "cell_type": "code",
   "execution_count": 38,
   "metadata": {},
   "outputs": [],
   "source": [
    "days = pd.date_range('2006-01-01', '2016-12-31', freq='D')\n",
    "vals = np.cumsum(np.random.randn(len(days)))\n",
    "df = pd.DataFrame({\n",
    "    'date': days,\n",
    "    'price': vals\n",
    "}).set_index('date')"
   ]
  },
  {
   "cell_type": "code",
   "execution_count": 39,
   "metadata": {},
   "outputs": [
    {
     "data": {
      "image/png": "[encoded data removed]",
      "text/plain": [
       "<matplotlib.figure.Figure at 0x1138d5b38>"
      ]
     },
     "metadata": {},
     "output_type": "display_data"
    }
   ],
   "source": [
    "roll = df['price'].rolling(52*7, min_periods=1)\n",
    "pd.DataFrame({\n",
    "    'low' : roll.apply(lambda s: s.min()),\n",
    "    'high': roll.apply(lambda s: s.max()),\n",
    "    'price': df['price']\n",
    "}).plot();"
   ]
  },
  {
   "cell_type": "markdown",
   "metadata": {},
   "source": [
    "## Joining"
   ]
  },
  {
   "cell_type": "code",
   "execution_count": 115,
   "metadata": {},
   "outputs": [
    {
     "data": {
      "text/plain": [
       "0     0\n",
       "1     2\n",
       "2     4\n",
       "3     6\n",
       "4     8\n",
       "5    10\n",
       "6    12\n",
       "7    14\n",
       "8    16\n",
       "9    18\n",
       "Name: twox, dtype: int64"
      ]
     },
     "execution_count": 115,
     "metadata": {},
     "output_type": "execute_result"
    }
   ],
   "source": [
    "mapp = pd.Series({x: 2*x for x in range(10)}, name='twox')\n",
    "mapp"
   ]
  },
  {
   "cell_type": "code",
   "execution_count": 116,
   "metadata": {},
   "outputs": [
    {
     "data": {
      "text/html": [
       "<div>\n",
       "<style>\n",
       "    .dataframe thead tr:only-child th {\n",
       "        text-align: right;\n",
       "    }\n",
       "\n",
       "    .dataframe thead th {\n",
       "        text-align: left;\n",
       "    }\n",
       "\n",
       "    .dataframe tbody tr th {\n",
       "        vertical-align: top;\n",
       "    }\n",
       "</style>\n",
       "<table border=\"1\" class=\"dataframe\">\n",
       "  <thead>\n",
       "    <tr style=\"text-align: right;\">\n",
       "      <th></th>\n",
       "      <th>ser</th>\n",
       "    </tr>\n",
       "  </thead>\n",
       "  <tbody>\n",
       "    <tr>\n",
       "      <th>0</th>\n",
       "      <td>3</td>\n",
       "    </tr>\n",
       "    <tr>\n",
       "      <th>1</th>\n",
       "      <td>7</td>\n",
       "    </tr>\n",
       "    <tr>\n",
       "      <th>2</th>\n",
       "      <td>4</td>\n",
       "    </tr>\n",
       "    <tr>\n",
       "      <th>3</th>\n",
       "      <td>3</td>\n",
       "    </tr>\n",
       "    <tr>\n",
       "      <th>4</th>\n",
       "      <td>4</td>\n",
       "    </tr>\n",
       "  </tbody>\n",
       "</table>\n",
       "</div>"
      ],
      "text/plain": [
       "   ser\n",
       "0    3\n",
       "1    7\n",
       "2    4\n",
       "3    3\n",
       "4    4"
      ]
     },
     "execution_count": 116,
     "metadata": {},
     "output_type": "execute_result"
    }
   ],
   "source": [
    "init = pd.DataFrame({'ser': np.random.randint(10, size=100)})\n",
    "init.head()"
   ]
  },
  {
   "cell_type": "code",
   "execution_count": 119,
   "metadata": {},
   "outputs": [
    {
     "data": {
      "text/html": [
       "<div>\n",
       "<style>\n",
       "    .dataframe thead tr:only-child th {\n",
       "        text-align: right;\n",
       "    }\n",
       "\n",
       "    .dataframe thead th {\n",
       "        text-align: left;\n",
       "    }\n",
       "\n",
       "    .dataframe tbody tr th {\n",
       "        vertical-align: top;\n",
       "    }\n",
       "</style>\n",
       "<table border=\"1\" class=\"dataframe\">\n",
       "  <thead>\n",
       "    <tr style=\"text-align: right;\">\n",
       "      <th></th>\n",
       "      <th>ser</th>\n",
       "      <th>twox</th>\n",
       "    </tr>\n",
       "  </thead>\n",
       "  <tbody>\n",
       "    <tr>\n",
       "      <th>0</th>\n",
       "      <td>3</td>\n",
       "      <td>6</td>\n",
       "    </tr>\n",
       "    <tr>\n",
       "      <th>1</th>\n",
       "      <td>7</td>\n",
       "      <td>14</td>\n",
       "    </tr>\n",
       "    <tr>\n",
       "      <th>2</th>\n",
       "      <td>4</td>\n",
       "      <td>8</td>\n",
       "    </tr>\n",
       "    <tr>\n",
       "      <th>3</th>\n",
       "      <td>3</td>\n",
       "      <td>6</td>\n",
       "    </tr>\n",
       "    <tr>\n",
       "      <th>4</th>\n",
       "      <td>4</td>\n",
       "      <td>8</td>\n",
       "    </tr>\n",
       "  </tbody>\n",
       "</table>\n",
       "</div>"
      ],
      "text/plain": [
       "   ser  twox\n",
       "0    3     6\n",
       "1    7    14\n",
       "2    4     8\n",
       "3    3     6\n",
       "4    4     8"
      ]
     },
     "execution_count": 119,
     "metadata": {},
     "output_type": "execute_result"
    }
   ],
   "source": [
    "final = init.join(mapp, on='ser')\n",
    "final.head()"
   ]
  },
  {
   "cell_type": "code",
   "execution_count": 121,
   "metadata": {},
   "outputs": [
    {
     "data": {
      "text/html": [
       "<div>\n",
       "<style>\n",
       "    .dataframe thead tr:only-child th {\n",
       "        text-align: right;\n",
       "    }\n",
       "\n",
       "    .dataframe thead th {\n",
       "        text-align: left;\n",
       "    }\n",
       "\n",
       "    .dataframe tbody tr th {\n",
       "        vertical-align: top;\n",
       "    }\n",
       "</style>\n",
       "<table border=\"1\" class=\"dataframe\">\n",
       "  <thead>\n",
       "    <tr style=\"text-align: right;\">\n",
       "      <th></th>\n",
       "      <th>ser</th>\n",
       "      <th>twox</th>\n",
       "      <th>ratio</th>\n",
       "    </tr>\n",
       "  </thead>\n",
       "  <tbody>\n",
       "    <tr>\n",
       "      <th>0</th>\n",
       "      <td>3</td>\n",
       "      <td>6</td>\n",
       "      <td>2.0</td>\n",
       "    </tr>\n",
       "    <tr>\n",
       "      <th>1</th>\n",
       "      <td>7</td>\n",
       "      <td>14</td>\n",
       "      <td>2.0</td>\n",
       "    </tr>\n",
       "    <tr>\n",
       "      <th>2</th>\n",
       "      <td>4</td>\n",
       "      <td>8</td>\n",
       "      <td>2.0</td>\n",
       "    </tr>\n",
       "    <tr>\n",
       "      <th>3</th>\n",
       "      <td>3</td>\n",
       "      <td>6</td>\n",
       "      <td>2.0</td>\n",
       "    </tr>\n",
       "    <tr>\n",
       "      <th>4</th>\n",
       "      <td>4</td>\n",
       "      <td>8</td>\n",
       "      <td>2.0</td>\n",
       "    </tr>\n",
       "  </tbody>\n",
       "</table>\n",
       "</div>"
      ],
      "text/plain": [
       "   ser  twox  ratio\n",
       "0    3     6    2.0\n",
       "1    7    14    2.0\n",
       "2    4     8    2.0\n",
       "3    3     6    2.0\n",
       "4    4     8    2.0"
      ]
     },
     "execution_count": 121,
     "metadata": {},
     "output_type": "execute_result"
    }
   ],
   "source": [
    "final['ratio'] = final['twox']/final['ser']\n",
    "final.head()"
   ]
  },
  {
   "cell_type": "markdown",
   "metadata": {},
   "source": [
    "## Plotting"
   ]
  },
  {
   "cell_type": "code",
   "execution_count": 8,
   "metadata": {},
   "outputs": [
    {
     "data": {
      "image/png": "[encoded data removed]",
      "text/plain": [
       "<matplotlib.figure.Figure at 0x1124e91d0>"
      ]
     },
     "metadata": {},
     "output_type": "display_data"
    }
   ],
   "source": [
    "# good way to arrange plots\n",
    "pd.DataFrame({\n",
    "    'one': np.cumsum(np.random.randn(1000)),\n",
    "    'two': np.cumsum(np.random.randn(1000)),\n",
    "    'three': np.cumsum(np.random.randn(1000))\n",
    "}).plot();"
   ]
  },
  {
   "cell_type": "code",
   "execution_count": 567,
   "metadata": {},
   "outputs": [
    {
     "data": {
      "image/png": "[encoded data removed]",
      "text/plain": [
       "<matplotlib.figure.Figure at 0x11d30d668>"
      ]
     },
     "metadata": {},
     "output_type": "display_data"
    }
   ],
   "source": [
    "x = 10*np.random.randn(1000)\n",
    "y = x + 10*np.random.randn(1000)\n",
    "df = pd.DataFrame({\n",
    "    'x': x,\n",
    "    'y': y\n",
    "})\n",
    "df.plot.scatter(x='x', y='y');"
   ]
  },
  {
   "cell_type": "code",
   "execution_count": 568,
   "metadata": {},
   "outputs": [
    {
     "data": {
      "image/png": "[encoded data removed]",
      "text/plain": [
       "<matplotlib.figure.Figure at 0x11d27df28>"
      ]
     },
     "metadata": {},
     "output_type": "display_data"
    }
   ],
   "source": [
    "sns.jointplot('x', 'y', data=df);"
   ]
  },
  {
   "cell_type": "code",
   "execution_count": 569,
   "metadata": {},
   "outputs": [
    {
     "data": {
      "image/png": "[encoded data removed]",
      "text/plain": [
       "<matplotlib.figure.Figure at 0x11d453a90>"
      ]
     },
     "metadata": {},
     "output_type": "display_data"
    }
   ],
   "source": [
    "# kind in ['scatter', 'reg', 'resid', 'kde', 'hex']\n",
    "sns.jointplot('x', 'y', kind='hex', data=df);"
   ]
  },
  {
   "cell_type": "markdown",
   "metadata": {},
   "source": [
    "## Input/Output"
   ]
  },
  {
   "cell_type": "code",
   "execution_count": 1,
   "metadata": {},
   "outputs": [],
   "source": [
    "df = pd.DataFrame({\n",
    "    'one': np.cumsum(np.random.randn(1000)),\n",
    "    'two': np.cumsum(np.random.randn(1000)),\n",
    "    'three': np.cumsum(np.random.randn(1000))\n",
    "})\n",
    "df.to_csv('test.csv', index=False)"
   ]
  },
  {
   "cell_type": "code",
   "execution_count": 4,
   "metadata": {},
   "outputs": [
    {
     "data": {
      "text/html": [
       "<div>\n",
       "<style>\n",
       "    .dataframe thead tr:only-child th {\n",
       "        text-align: right;\n",
       "    }\n",
       "\n",
       "    .dataframe thead th {\n",
       "        text-align: left;\n",
       "    }\n",
       "\n",
       "    .dataframe tbody tr th {\n",
       "        vertical-align: top;\n",
       "    }\n",
       "</style>\n",
       "<table border=\"1\" class=\"dataframe\">\n",
       "  <thead>\n",
       "    <tr style=\"text-align: right;\">\n",
       "      <th></th>\n",
       "      <th>one</th>\n",
       "      <th>three</th>\n",
       "      <th>two</th>\n",
       "    </tr>\n",
       "  </thead>\n",
       "  <tbody>\n",
       "    <tr>\n",
       "      <th>0</th>\n",
       "      <td>-0.927313</td>\n",
       "      <td>-0.443058</td>\n",
       "      <td>-0.665682</td>\n",
       "    </tr>\n",
       "    <tr>\n",
       "      <th>1</th>\n",
       "      <td>-2.597165</td>\n",
       "      <td>-0.873548</td>\n",
       "      <td>0.383420</td>\n",
       "    </tr>\n",
       "    <tr>\n",
       "      <th>2</th>\n",
       "      <td>-1.718479</td>\n",
       "      <td>0.249587</td>\n",
       "      <td>1.359553</td>\n",
       "    </tr>\n",
       "    <tr>\n",
       "      <th>3</th>\n",
       "      <td>-2.264265</td>\n",
       "      <td>-0.614925</td>\n",
       "      <td>1.078138</td>\n",
       "    </tr>\n",
       "    <tr>\n",
       "      <th>4</th>\n",
       "      <td>-1.750190</td>\n",
       "      <td>-0.068286</td>\n",
       "      <td>2.782022</td>\n",
       "    </tr>\n",
       "  </tbody>\n",
       "</table>\n",
       "</div>"
      ],
      "text/plain": [
       "        one     three       two\n",
       "0 -0.927313 -0.443058 -0.665682\n",
       "1 -2.597165 -0.873548  0.383420\n",
       "2 -1.718479  0.249587  1.359553\n",
       "3 -2.264265 -0.614925  1.078138\n",
       "4 -1.750190 -0.068286  2.782022"
      ]
     },
     "execution_count": 4,
     "metadata": {},
     "output_type": "execute_result"
    }
   ],
   "source": [
    "df = pd.read_csv('test.csv')\n",
    "df.head()"
   ]
  },
  {
   "cell_type": "markdown",
   "metadata": {},
   "source": [
    "Can also use the many `pd.DataFrame.to_*` and `pd.read_*` function where `*` is one of:\n",
    "- csv\n",
    "- excel\n",
    "- json\n",
    "- html\n",
    "- latex\n",
    "- stata\n",
    "- sql"
   ]
  },
  {
   "cell_type": "markdown",
   "metadata": {},
   "source": [
    "# Regressions"
   ]
  },
  {
   "cell_type": "markdown",
   "metadata": {},
   "source": [
    "## Basic"
   ]
  },
  {
   "cell_type": "code",
   "execution_count": 55,
   "metadata": {},
   "outputs": [],
   "source": [
    "N = 100\n",
    "x = np.random.randn(N)\n",
    "y = 3*np.random.randn(N)\n",
    "z = 1 + 2*x + 3*y + 4*x*y + np.random.randn(N)\n",
    "df = pd.DataFrame({\n",
    "    'x': x,\n",
    "    'y': y,\n",
    "    'z': z\n",
    "})"
   ]
  },
  {
   "cell_type": "code",
   "execution_count": 56,
   "metadata": {},
   "outputs": [
    {
     "data": {
      "text/html": [
       "<table class=\"simpletable\">\n",
       "<caption>OLS Regression Results</caption>\n",
       "<tr>\n",
       "  <th>Dep. Variable:</th>            <td>z</td>        <th>  R-squared:         </th> <td>   0.508</td>\n",
       "</tr>\n",
       "<tr>\n",
       "  <th>Model:</th>                   <td>OLS</td>       <th>  Adj. R-squared:    </th> <td>   0.497</td>\n",
       "</tr>\n",
       "<tr>\n",
       "  <th>Method:</th>             <td>Least Squares</td>  <th>  F-statistic:       </th> <td>   50.00</td>\n",
       "</tr>\n",
       "<tr>\n",
       "  <th>Date:</th>             <td>Wed, 11 Oct 2017</td> <th>  Prob (F-statistic):</th> <td>1.20e-15</td>\n",
       "</tr>\n",
       "<tr>\n",
       "  <th>Time:</th>                 <td>21:32:51</td>     <th>  Log-Likelihood:    </th> <td> -378.81</td>\n",
       "</tr>\n",
       "<tr>\n",
       "  <th>No. Observations:</th>      <td>   100</td>      <th>  AIC:               </th> <td>   763.6</td>\n",
       "</tr>\n",
       "<tr>\n",
       "  <th>Df Residuals:</th>          <td>    97</td>      <th>  BIC:               </th> <td>   771.4</td>\n",
       "</tr>\n",
       "<tr>\n",
       "  <th>Df Model:</th>              <td>     2</td>      <th>                     </th>     <td> </td>   \n",
       "</tr>\n",
       "<tr>\n",
       "  <th>Covariance Type:</th>      <td>nonrobust</td>    <th>                     </th>     <td> </td>   \n",
       "</tr>\n",
       "</table>\n",
       "<table class=\"simpletable\">\n",
       "<tr>\n",
       "      <td></td>         <th>coef</th>     <th>std err</th>      <th>t</th>      <th>P>|t|</th>  <th>[0.025</th>    <th>0.975]</th>  \n",
       "</tr>\n",
       "<tr>\n",
       "  <th>Intercept</th> <td>    0.0297</td> <td>    1.124</td> <td>    0.026</td> <td> 0.979</td> <td>   -2.200</td> <td>    2.260</td>\n",
       "</tr>\n",
       "<tr>\n",
       "  <th>x</th>         <td>   -0.0761</td> <td>    1.053</td> <td>   -0.072</td> <td> 0.943</td> <td>   -2.166</td> <td>    2.013</td>\n",
       "</tr>\n",
       "<tr>\n",
       "  <th>y</th>         <td>    3.7700</td> <td>    0.380</td> <td>    9.910</td> <td> 0.000</td> <td>    3.015</td> <td>    4.525</td>\n",
       "</tr>\n",
       "</table>\n",
       "<table class=\"simpletable\">\n",
       "<tr>\n",
       "  <th>Omnibus:</th>       <td>16.139</td> <th>  Durbin-Watson:     </th> <td>   2.493</td>\n",
       "</tr>\n",
       "<tr>\n",
       "  <th>Prob(Omnibus):</th> <td> 0.000</td> <th>  Jarque-Bera (JB):  </th> <td>  28.809</td>\n",
       "</tr>\n",
       "<tr>\n",
       "  <th>Skew:</th>          <td>-0.648</td> <th>  Prob(JB):          </th> <td>5.55e-07</td>\n",
       "</tr>\n",
       "<tr>\n",
       "  <th>Kurtosis:</th>      <td> 5.288</td> <th>  Cond. No.          </th> <td>    3.23</td>\n",
       "</tr>\n",
       "</table>"
      ],
      "text/plain": [
       "<class 'statsmodels.iolib.summary.Summary'>\n",
       "\"\"\"\n",
       "                            OLS Regression Results                            \n",
       "==============================================================================\n",
       "Dep. Variable:                      z   R-squared:                       0.508\n",
       "Model:                            OLS   Adj. R-squared:                  0.497\n",
       "Method:                 Least Squares   F-statistic:                     50.00\n",
       "Date:                Wed, 11 Oct 2017   Prob (F-statistic):           1.20e-15\n",
       "Time:                        21:32:51   Log-Likelihood:                -378.81\n",
       "No. Observations:                 100   AIC:                             763.6\n",
       "Df Residuals:                      97   BIC:                             771.4\n",
       "Df Model:                           2                                         \n",
       "Covariance Type:            nonrobust                                         \n",
       "==============================================================================\n",
       "                 coef    std err          t      P>|t|      [0.025      0.975]\n",
       "------------------------------------------------------------------------------\n",
       "Intercept      0.0297      1.124      0.026      0.979      -2.200       2.260\n",
       "x             -0.0761      1.053     -0.072      0.943      -2.166       2.013\n",
       "y              3.7700      0.380      9.910      0.000       3.015       4.525\n",
       "==============================================================================\n",
       "Omnibus:                       16.139   Durbin-Watson:                   2.493\n",
       "Prob(Omnibus):                  0.000   Jarque-Bera (JB):               28.809\n",
       "Skew:                          -0.648   Prob(JB):                     5.55e-07\n",
       "Kurtosis:                       5.288   Cond. No.                         3.23\n",
       "==============================================================================\n",
       "\n",
       "Warnings:\n",
       "[1] Standard Errors assume that the covariance matrix of the errors is correctly specified.\n",
       "\"\"\""
      ]
     },
     "execution_count": 56,
     "metadata": {},
     "output_type": "execute_result"
    }
   ],
   "source": [
    "ret = smf.ols('z ~ 1 + x + y', data=df).fit()\n",
    "ret.summary()"
   ]
  },
  {
   "cell_type": "code",
   "execution_count": 57,
   "metadata": {},
   "outputs": [
    {
     "data": {
      "text/plain": [
       "Intercept    0.029666\n",
       "x           -0.076123\n",
       "y            3.770009\n",
       "dtype: float64"
      ]
     },
     "execution_count": 57,
     "metadata": {},
     "output_type": "execute_result"
    }
   ],
   "source": [
    "ret.params"
   ]
  },
  {
   "cell_type": "code",
   "execution_count": 60,
   "metadata": {},
   "outputs": [
    {
     "data": {
      "text/html": [
       "<table class=\"simpletable\">\n",
       "<caption>OLS Regression Results</caption>\n",
       "<tr>\n",
       "  <th>Dep. Variable:</th>            <td>z</td>        <th>  R-squared:         </th> <td>   0.995</td> \n",
       "</tr>\n",
       "<tr>\n",
       "  <th>Model:</th>                   <td>OLS</td>       <th>  Adj. R-squared:    </th> <td>   0.995</td> \n",
       "</tr>\n",
       "<tr>\n",
       "  <th>Method:</th>             <td>Least Squares</td>  <th>  F-statistic:       </th> <td>   6693.</td> \n",
       "</tr>\n",
       "<tr>\n",
       "  <th>Date:</th>             <td>Wed, 11 Oct 2017</td> <th>  Prob (F-statistic):</th> <td>2.60e-111</td>\n",
       "</tr>\n",
       "<tr>\n",
       "  <th>Time:</th>                 <td>21:33:39</td>     <th>  Log-Likelihood:    </th> <td> -146.84</td> \n",
       "</tr>\n",
       "<tr>\n",
       "  <th>No. Observations:</th>      <td>   100</td>      <th>  AIC:               </th> <td>   301.7</td> \n",
       "</tr>\n",
       "<tr>\n",
       "  <th>Df Residuals:</th>          <td>    96</td>      <th>  BIC:               </th> <td>   312.1</td> \n",
       "</tr>\n",
       "<tr>\n",
       "  <th>Df Model:</th>              <td>     3</td>      <th>                     </th>     <td> </td>    \n",
       "</tr>\n",
       "<tr>\n",
       "  <th>Covariance Type:</th>      <td>nonrobust</td>    <th>                     </th>     <td> </td>    \n",
       "</tr>\n",
       "</table>\n",
       "<table class=\"simpletable\">\n",
       "<tr>\n",
       "      <td></td>         <th>coef</th>     <th>std err</th>      <th>t</th>      <th>P>|t|</th>  <th>[0.025</th>    <th>0.975]</th>  \n",
       "</tr>\n",
       "<tr>\n",
       "  <th>Intercept</th> <td>    1.1497</td> <td>    0.112</td> <td>   10.302</td> <td> 0.000</td> <td>    0.928</td> <td>    1.371</td>\n",
       "</tr>\n",
       "<tr>\n",
       "  <th>x</th>         <td>    1.8752</td> <td>    0.106</td> <td>   17.711</td> <td> 0.000</td> <td>    1.665</td> <td>    2.085</td>\n",
       "</tr>\n",
       "<tr>\n",
       "  <th>y</th>         <td>    2.9568</td> <td>    0.038</td> <td>   76.846</td> <td> 0.000</td> <td>    2.880</td> <td>    3.033</td>\n",
       "</tr>\n",
       "<tr>\n",
       "  <th>x:y</th>       <td>    4.0047</td> <td>    0.040</td> <td>   99.185</td> <td> 0.000</td> <td>    3.925</td> <td>    4.085</td>\n",
       "</tr>\n",
       "</table>\n",
       "<table class=\"simpletable\">\n",
       "<tr>\n",
       "  <th>Omnibus:</th>       <td> 1.085</td> <th>  Durbin-Watson:     </th> <td>   1.862</td>\n",
       "</tr>\n",
       "<tr>\n",
       "  <th>Prob(Omnibus):</th> <td> 0.581</td> <th>  Jarque-Bera (JB):  </th> <td>   1.014</td>\n",
       "</tr>\n",
       "<tr>\n",
       "  <th>Skew:</th>          <td> 0.057</td> <th>  Prob(JB):          </th> <td>   0.602</td>\n",
       "</tr>\n",
       "<tr>\n",
       "  <th>Kurtosis:</th>      <td> 2.520</td> <th>  Cond. No.          </th> <td>    3.57</td>\n",
       "</tr>\n",
       "</table>"
      ],
      "text/plain": [
       "<class 'statsmodels.iolib.summary.Summary'>\n",
       "\"\"\"\n",
       "                            OLS Regression Results                            \n",
       "==============================================================================\n",
       "Dep. Variable:                      z   R-squared:                       0.995\n",
       "Model:                            OLS   Adj. R-squared:                  0.995\n",
       "Method:                 Least Squares   F-statistic:                     6693.\n",
       "Date:                Wed, 11 Oct 2017   Prob (F-statistic):          2.60e-111\n",
       "Time:                        21:33:39   Log-Likelihood:                -146.84\n",
       "No. Observations:                 100   AIC:                             301.7\n",
       "Df Residuals:                      96   BIC:                             312.1\n",
       "Df Model:                           3                                         \n",
       "Covariance Type:            nonrobust                                         \n",
       "==============================================================================\n",
       "                 coef    std err          t      P>|t|      [0.025      0.975]\n",
       "------------------------------------------------------------------------------\n",
       "Intercept      1.1497      0.112     10.302      0.000       0.928       1.371\n",
       "x              1.8752      0.106     17.711      0.000       1.665       2.085\n",
       "y              2.9568      0.038     76.846      0.000       2.880       3.033\n",
       "x:y            4.0047      0.040     99.185      0.000       3.925       4.085\n",
       "==============================================================================\n",
       "Omnibus:                        1.085   Durbin-Watson:                   1.862\n",
       "Prob(Omnibus):                  0.581   Jarque-Bera (JB):                1.014\n",
       "Skew:                           0.057   Prob(JB):                        0.602\n",
       "Kurtosis:                       2.520   Cond. No.                         3.57\n",
       "==============================================================================\n",
       "\n",
       "Warnings:\n",
       "[1] Standard Errors assume that the covariance matrix of the errors is correctly specified.\n",
       "\"\"\""
      ]
     },
     "execution_count": 60,
     "metadata": {},
     "output_type": "execute_result"
    }
   ],
   "source": [
    "ret = smf.ols('z ~ 1 + x*y', data=df).fit()\n",
    "ret.summary()"
   ]
  },
  {
   "cell_type": "markdown",
   "metadata": {},
   "source": [
    "## Categorical"
   ]
  },
  {
   "cell_type": "code",
   "execution_count": 4,
   "metadata": {},
   "outputs": [],
   "source": [
    "# make some fake data\n",
    "N = 100\n",
    "block = np.random.randint(4, size=N)\n",
    "cmean = np.array([0.1, 0.2, 0.3, 0.4])\n",
    "cvars = np.array([0.2, 0.1, 0.5, 0.2])\n",
    "value = cmean[block]+np.random.randn(N)*cvars[block]\n",
    "df = pd.DataFrame({\n",
    "    'block': block,\n",
    "    'value': value\n",
    "})"
   ]
  },
  {
   "cell_type": "code",
   "execution_count": 5,
   "metadata": {},
   "outputs": [
    {
     "data": {
      "text/html": [
       "<table class=\"simpletable\">\n",
       "<caption>OLS Regression Results</caption>\n",
       "<tr>\n",
       "  <th>Dep. Variable:</th>          <td>value</td>      <th>  R-squared:         </th> <td>   0.116</td>\n",
       "</tr>\n",
       "<tr>\n",
       "  <th>Model:</th>                   <td>OLS</td>       <th>  Adj. R-squared:    </th> <td>   0.088</td>\n",
       "</tr>\n",
       "<tr>\n",
       "  <th>Method:</th>             <td>Least Squares</td>  <th>  F-statistic:       </th> <td>   4.191</td>\n",
       "</tr>\n",
       "<tr>\n",
       "  <th>Date:</th>             <td>Wed, 11 Oct 2017</td> <th>  Prob (F-statistic):</th>  <td>0.00782</td>\n",
       "</tr>\n",
       "<tr>\n",
       "  <th>Time:</th>                 <td>16:49:31</td>     <th>  Log-Likelihood:    </th> <td> -33.690</td>\n",
       "</tr>\n",
       "<tr>\n",
       "  <th>No. Observations:</th>      <td>   100</td>      <th>  AIC:               </th> <td>   75.38</td>\n",
       "</tr>\n",
       "<tr>\n",
       "  <th>Df Residuals:</th>          <td>    96</td>      <th>  BIC:               </th> <td>   85.80</td>\n",
       "</tr>\n",
       "<tr>\n",
       "  <th>Df Model:</th>              <td>     3</td>      <th>                     </th>     <td> </td>   \n",
       "</tr>\n",
       "<tr>\n",
       "  <th>Covariance Type:</th>      <td>nonrobust</td>    <th>                     </th>     <td> </td>   \n",
       "</tr>\n",
       "</table>\n",
       "<table class=\"simpletable\">\n",
       "<tr>\n",
       "       <td></td>          <th>coef</th>     <th>std err</th>      <th>t</th>      <th>P>|t|</th>  <th>[0.025</th>    <th>0.975]</th>  \n",
       "</tr>\n",
       "<tr>\n",
       "  <th>C(block)[0]</th> <td>    0.0775</td> <td>    0.064</td> <td>    1.207</td> <td> 0.230</td> <td>   -0.050</td> <td>    0.205</td>\n",
       "</tr>\n",
       "<tr>\n",
       "  <th>C(block)[1]</th> <td>    0.2053</td> <td>    0.075</td> <td>    2.720</td> <td> 0.008</td> <td>    0.055</td> <td>    0.355</td>\n",
       "</tr>\n",
       "<tr>\n",
       "  <th>C(block)[2]</th> <td>    0.3050</td> <td>    0.067</td> <td>    4.582</td> <td> 0.000</td> <td>    0.173</td> <td>    0.437</td>\n",
       "</tr>\n",
       "<tr>\n",
       "  <th>C(block)[3]</th> <td>    0.4015</td> <td>    0.072</td> <td>    5.566</td> <td> 0.000</td> <td>    0.258</td> <td>    0.545</td>\n",
       "</tr>\n",
       "</table>\n",
       "<table class=\"simpletable\">\n",
       "<tr>\n",
       "  <th>Omnibus:</th>       <td>12.932</td> <th>  Durbin-Watson:     </th> <td>   1.800</td>\n",
       "</tr>\n",
       "<tr>\n",
       "  <th>Prob(Omnibus):</th> <td> 0.002</td> <th>  Jarque-Bera (JB):  </th> <td>  24.966</td>\n",
       "</tr>\n",
       "<tr>\n",
       "  <th>Skew:</th>          <td>-0.463</td> <th>  Prob(JB):          </th> <td>3.79e-06</td>\n",
       "</tr>\n",
       "<tr>\n",
       "  <th>Kurtosis:</th>      <td> 5.266</td> <th>  Cond. No.          </th> <td>    1.18</td>\n",
       "</tr>\n",
       "</table>"
      ],
      "text/plain": [
       "<class 'statsmodels.iolib.summary.Summary'>\n",
       "\"\"\"\n",
       "                            OLS Regression Results                            \n",
       "==============================================================================\n",
       "Dep. Variable:                  value   R-squared:                       0.116\n",
       "Model:                            OLS   Adj. R-squared:                  0.088\n",
       "Method:                 Least Squares   F-statistic:                     4.191\n",
       "Date:                Wed, 11 Oct 2017   Prob (F-statistic):            0.00782\n",
       "Time:                        16:49:31   Log-Likelihood:                -33.690\n",
       "No. Observations:                 100   AIC:                             75.38\n",
       "Df Residuals:                      96   BIC:                             85.80\n",
       "Df Model:                           3                                         \n",
       "Covariance Type:            nonrobust                                         \n",
       "===============================================================================\n",
       "                  coef    std err          t      P>|t|      [0.025      0.975]\n",
       "-------------------------------------------------------------------------------\n",
       "C(block)[0]     0.0775      0.064      1.207      0.230      -0.050       0.205\n",
       "C(block)[1]     0.2053      0.075      2.720      0.008       0.055       0.355\n",
       "C(block)[2]     0.3050      0.067      4.582      0.000       0.173       0.437\n",
       "C(block)[3]     0.4015      0.072      5.566      0.000       0.258       0.545\n",
       "==============================================================================\n",
       "Omnibus:                       12.932   Durbin-Watson:                   1.800\n",
       "Prob(Omnibus):                  0.002   Jarque-Bera (JB):               24.966\n",
       "Skew:                          -0.463   Prob(JB):                     3.79e-06\n",
       "Kurtosis:                       5.266   Cond. No.                         1.18\n",
       "==============================================================================\n",
       "\n",
       "Warnings:\n",
       "[1] Standard Errors assume that the covariance matrix of the errors is correctly specified.\n",
       "\"\"\""
      ]
     },
     "execution_count": 5,
     "metadata": {},
     "output_type": "execute_result"
    }
   ],
   "source": [
    "ret = smf.ols('value ~ 0 + C(block)', data=df).fit()\n",
    "ret.summary()"
   ]
  },
  {
   "cell_type": "code",
   "execution_count": 6,
   "metadata": {},
   "outputs": [
    {
     "data": {
      "text/plain": [
       "C(block)[0]   -0.022463\n",
       "C(block)[1]    0.005282\n",
       "C(block)[2]    0.004980\n",
       "C(block)[3]    0.001458\n",
       "dtype: float64"
      ]
     },
     "execution_count": 6,
     "metadata": {},
     "output_type": "execute_result"
    }
   ],
   "source": [
    "ret.params - cmean"
   ]
  },
  {
   "cell_type": "code",
   "execution_count": 7,
   "metadata": {},
   "outputs": [],
   "source": [
    "stderr_reg = np.sqrt(ret.cov_params().values.diagonal())\n",
    "stderr_rob = np.sqrt(ret.cov_HC0.diagonal())"
   ]
  },
  {
   "cell_type": "markdown",
   "metadata": {},
   "source": [
    "## Bootstrapping"
   ]
  },
  {
   "cell_type": "code",
   "execution_count": 8,
   "metadata": {},
   "outputs": [],
   "source": [
    "def gen_block_data(N, cmean, cvars):\n",
    "    cmean = np.array(cmean)\n",
    "    cvars = np.array(cvars)\n",
    "    block = np.random.randint(len(cmean), size=N)\n",
    "    value = cmean[block]+np.random.randn(N)*cvars[block]\n",
    "    return pd.DataFrame({\n",
    "        'block': block,\n",
    "        'value': value\n",
    "    })"
   ]
  },
  {
   "cell_type": "code",
   "execution_count": 9,
   "metadata": {},
   "outputs": [],
   "source": [
    "N = 100\n",
    "K = 1000\n",
    "cmean = [0.1, 0.2, 0.3, 0.4]\n",
    "cvars = [0.2, 0.1, 0.5, 0.2]\n",
    "mygen = lambda: gen_block_data(N, cmean, cvars)\n",
    "myeqn = 'value ~ 0 + C(block)'\n",
    "res = pd.DataFrame({i: smf.ols(myeqn, data=mygen()).fit().params for i in range(K)}).T\n",
    "res.columns = ['b0', 'b1', 'b2', 'b3']\n",
    "stderr_bsp = res.std().values"
   ]
  },
  {
   "cell_type": "code",
   "execution_count": 10,
   "metadata": {},
   "outputs": [
    {
     "data": {
      "text/html": [
       "<div>\n",
       "<style>\n",
       "    .dataframe thead tr:only-child th {\n",
       "        text-align: right;\n",
       "    }\n",
       "\n",
       "    .dataframe thead th {\n",
       "        text-align: left;\n",
       "    }\n",
       "\n",
       "    .dataframe tbody tr th {\n",
       "        vertical-align: top;\n",
       "    }\n",
       "</style>\n",
       "<table border=\"1\" class=\"dataframe\">\n",
       "  <thead>\n",
       "    <tr style=\"text-align: right;\">\n",
       "      <th></th>\n",
       "      <th>0</th>\n",
       "      <th>1</th>\n",
       "      <th>2</th>\n",
       "      <th>3</th>\n",
       "    </tr>\n",
       "  </thead>\n",
       "  <tbody>\n",
       "    <tr>\n",
       "      <th>stderr_bsp</th>\n",
       "      <td>0.041025</td>\n",
       "      <td>0.019583</td>\n",
       "      <td>0.106507</td>\n",
       "      <td>0.040766</td>\n",
       "    </tr>\n",
       "    <tr>\n",
       "      <th>stderr_reg</th>\n",
       "      <td>0.064230</td>\n",
       "      <td>0.075480</td>\n",
       "      <td>0.066567</td>\n",
       "      <td>0.072123</td>\n",
       "    </tr>\n",
       "    <tr>\n",
       "      <th>stderr_rob</th>\n",
       "      <td>0.040428</td>\n",
       "      <td>0.026393</td>\n",
       "      <td>0.111601</td>\n",
       "      <td>0.037002</td>\n",
       "    </tr>\n",
       "  </tbody>\n",
       "</table>\n",
       "</div>"
      ],
      "text/plain": [
       "                   0         1         2         3\n",
       "stderr_bsp  0.041025  0.019583  0.106507  0.040766\n",
       "stderr_reg  0.064230  0.075480  0.066567  0.072123\n",
       "stderr_rob  0.040428  0.026393  0.111601  0.037002"
      ]
     },
     "execution_count": 10,
     "metadata": {},
     "output_type": "execute_result"
    }
   ],
   "source": [
    "pd.DataFrame({\n",
    "    'stderr_reg': stderr_reg,\n",
    "    'stderr_rob': stderr_rob,\n",
    "    'stderr_bsp': stderr_bsp\n",
    "}).T"
   ]
  },
  {
   "cell_type": "markdown",
   "metadata": {},
   "source": [
    "# Machine Learning"
   ]
  },
  {
   "cell_type": "markdown",
   "metadata": {},
   "source": [
    "$$\\log(\\mathcal{L}) = -\\frac{N}{2}\\log(2\\pi)-N\\log(\\sigma)-\\sum_i \\frac{1}{2}\\left(\\frac{y_i-\\beta x_i}{\\sigma}\\right)^2$$"
   ]
  },
  {
   "cell_type": "code",
   "execution_count": 2,
   "metadata": {},
   "outputs": [],
   "source": [
    "N = 1000\n",
    "dat_x = 10*np.random.randn(N)\n",
    "dat_y = 1 + 2*dat_x + 3*np.random.randn(N)"
   ]
  },
  {
   "cell_type": "code",
   "execution_count": 3,
   "metadata": {},
   "outputs": [],
   "source": [
    "x = tf.placeholder(tf.float64, name='x')\n",
    "y = tf.placeholder(tf.float64, name='y')\n",
    "data = {x: dat_x, y: dat_y}"
   ]
  },
  {
   "cell_type": "code",
   "execution_count": 33,
   "metadata": {},
   "outputs": [],
   "source": [
    "beta0 = tf.Variable(2.0, dtype=tf.float64, name='beta0')\n",
    "beta1 = tf.Variable(1.0, dtype=tf.float64, name='beta1')"
   ]
  },
  {
   "cell_type": "code",
   "execution_count": 34,
   "metadata": {},
   "outputs": [],
   "source": [
    "yhat = beta0 + beta1*x\n",
    "mse = tf.reduce_mean((y-yhat)**2)\n",
    "sigma = (N/(N-1))*tf.sqrt(mse)"
   ]
  },
  {
   "cell_type": "code",
   "execution_count": 35,
   "metadata": {},
   "outputs": [],
   "source": [
    "init = tf.global_variables_initializer()\n",
    "opt = tf.train.GradientDescentOptimizer(learning_rate=0.01)\n",
    "minn = opt.minimize(mse)"
   ]
  },
  {
   "cell_type": "code",
   "execution_count": 36,
   "metadata": {},
   "outputs": [
    {
     "name": "stdout",
     "output_type": "stream",
     "text": [
      "beta0 = 1.0472195721269038\n",
      "beta1 = 2.012886043110105\n",
      "sigma = 3.0226072963890456\n"
     ]
    }
   ],
   "source": [
    "with tf.Session().as_default():\n",
    "    init.run()\n",
    "    for i in range(1000):\n",
    "        minn.run(feed_dict=data)\n",
    "    print(f'beta0 = {beta0.eval()}')\n",
    "    print(f'beta1 = {beta1.eval()}')\n",
    "    print(f'sigma = {sigma.eval(feed_dict=data)}')"
   ]
  },
  {
   "cell_type": "code",
   "execution_count": 37,
   "metadata": {},
   "outputs": [
    {
     "name": "stdout",
     "output_type": "stream",
     "text": [
      "beta0 = 1.0472209162411337\n",
      "beta1 = 2.013117561727183\n",
      "sigma = 3.0226079259547425\n"
     ]
    }
   ],
   "source": [
    "df = pd.DataFrame({\n",
    "    'x': dat_x,\n",
    "    'y': dat_y\n",
    "})\n",
    "ret = smf.ols('y ~ 1 + x', data=df).fit()\n",
    "print(f'beta0 = {ret.params.iloc[0]}')\n",
    "print(f'beta1 = {ret.params.iloc[1]}')\n",
    "print(f'sigma = {np.sqrt(ret.mse_resid)}')"
   ]
  },
  {
   "cell_type": "markdown",
   "metadata": {},
   "source": [
    "## Text Analysis"
   ]
  },
  {
   "cell_type": "code",
   "execution_count": 2,
   "metadata": {},
   "outputs": [
    {
     "name": "stdout",
     "output_type": "stream",
     "text": [
      "hdf5 is not supported on this machine (please install/reinstall h5py for optimal experience)\n"
     ]
    }
   ],
   "source": [
    "import re\n",
    "import json\n",
    "import time\n",
    "import html\n",
    "import sklearn.feature_extraction.text as fe\n",
    "from sklearn.model_selection import train_test_split\n",
    "import tflearn\n",
    "from tflearn.data_utils import to_categorical"
   ]
  },
  {
   "cell_type": "code",
   "execution_count": 3,
   "metadata": {},
   "outputs": [],
   "source": [
    "def clean_tweet(text):\n",
    "    text = text.lower().strip()\n",
    "\n",
    "    # odd subs\n",
    "    text = re.sub(r'’', '\\'', text)\n",
    "    text = re.sub(r'—', '-', text)\n",
    "\n",
    "    # urls\n",
    "    text = re.sub(r'\\bhttps?://[\\S]*\\b', r' ', text)\n",
    "    text = html.unescape(text)\n",
    "\n",
    "    # acronyms\n",
    "    text = re.sub(r'\\.{2,}', r'.', text)\n",
    "    text = re.sub(r'(\\S)\\.(\\S)\\.', r'\\1\\2', text)\n",
    "    text = re.sub(r'(\\S)\\.(\\S)\\.(\\S)\\.', r'\\1\\2\\3', text)\n",
    "\n",
    "    # control chars\n",
    "    text = re.sub(r'([!\\.&,])', r' \\1 ', text)\n",
    "    text = re.sub(r'[^ a-z0-9#@!\\.&,\\']', r' ', text)\n",
    "    text = re.sub(r'[0-9\\']', r'', text)\n",
    "\n",
    "    # clean up\n",
    "    text = re.sub(r' {2,}', r' ', text)\n",
    "    text = text.strip()\n",
    "\n",
    "    # combine\n",
    "    return text"
   ]
  },
  {
   "cell_type": "code",
   "execution_count": 4,
   "metadata": {},
   "outputs": [],
   "source": [
    "tweets16 = pd.read_json('/Users/doug/data/trump_tweets/condensed_2016.json')\n",
    "tweets17 = pd.read_json('/Users/doug/data/trump_tweets/condensed_2017.json')\n",
    "tweets = pd.concat([tweets16, tweets17])\n",
    "\n",
    "rt_mark = tweets['text'].apply(lambda s: s.startswith('\"@') or s.startswith('rt'))\n",
    "tweets = tweets[(~tweets['is_retweet'])&(~rt_mark)&tweets['in_reply_to_user_id_str'].isnull()]\n",
    "tweets['isource'] = tweets['source'].map({'Twitter for iPhone': 0, 'Twitter for Android': 1})\n",
    "tweets = tweets.dropna(subset=['isource'])\n",
    "tweets['isource'] = tweets['isource'].astype(np.int)\n",
    "tweets['clean_text'] = tweets['text'].apply(clean_tweet)"
   ]
  },
  {
   "cell_type": "code",
   "execution_count": 5,
   "metadata": {},
   "outputs": [],
   "source": [
    "corpus = list(tweets['clean_text'])\n",
    "categ = to_categorical(tweets['isource'].values, 2)"
   ]
  },
  {
   "cell_type": "code",
   "execution_count": 6,
   "metadata": {},
   "outputs": [],
   "source": [
    "tfidf = fe.TfidfVectorizer()\n",
    "counts = tfidf.fit_transform(corpus).todense()\n",
    "n_twt, n_wrd = counts.shape"
   ]
  },
  {
   "cell_type": "code",
   "execution_count": 7,
   "metadata": {},
   "outputs": [],
   "source": [
    "(train_x, valid_x, train_y, valid_y) = train_test_split(counts, categ, test_size=0.1)"
   ]
  },
  {
   "cell_type": "code",
   "execution_count": 8,
   "metadata": {},
   "outputs": [],
   "source": [
    "def generate_nn(n_wrd, nn_size, dropout):\n",
    "    net = tflearn.input_data([None, n_wrd])\n",
    "    net = tflearn.fully_connected(net, nn_size, activation='softmax')\n",
    "    net = tflearn.dropout(net, 1-dropout)\n",
    "    net = tflearn.fully_connected(net, 2, activation='softmax')\n",
    "    net = tflearn.regression(net, optimizer='adam', loss='categorical_crossentropy')\n",
    "    model = tflearn.DNN(net, clip_gradients=0.0, tensorboard_verbose=1,\n",
    "        tensorboard_dir='/tmp/tflearn_logs/neural', checkpoint_path='checkpoints/neural')\n",
    "    return model"
   ]
  },
  {
   "cell_type": "code",
   "execution_count": 9,
   "metadata": {},
   "outputs": [],
   "source": [
    "model = generate_nn(n_wrd, 128, 0.5)"
   ]
  },
  {
   "cell_type": "code",
   "execution_count": 12,
   "metadata": {},
   "outputs": [
    {
     "name": "stdout",
     "output_type": "stream",
     "text": [
      "Training Step: 2649  | total loss: \u001b[1m\u001b[32m0.20733\u001b[0m\u001b[0m | time: 2.069s\n",
      "\u001b[2K\r",
      "| Adam | epoch: 055 | loss: 0.20733 - acc: 0.9487 -- iter: 3072/3114\n",
      "Training Step: 2650  | total loss: \u001b[1m\u001b[32m0.21528\u001b[0m\u001b[0m | time: 3.118s\n",
      "\u001b[2K\r",
      "| Adam | epoch: 055 | loss: 0.21528 - acc: 0.9429 | val_loss: 0.37410 - val_acc: 0.8324 -- iter: 3114/3114\n",
      "--\n",
      "INFO:tensorflow:/Users/doug/work/data_science/checkpoints/neural-2650 is not in all_model_checkpoint_paths. Manually adding it.\n"
     ]
    }
   ],
   "source": [
    "run_id = 'neural_%s' % time.strftime('%Y_%m%d_%H%M')\n",
    "model.fit(train_x, train_y, validation_set=(valid_x, valid_y),\n",
    "          show_metric=True, n_epoch=25, run_id=run_id)"
   ]
  },
  {
   "cell_type": "code",
   "execution_count": 17,
   "metadata": {},
   "outputs": [],
   "source": [
    "valid_prob = model.predict(valid_x)\n",
    "valid_pred = np.array(valid_prob).argmax(axis=1)\n",
    "valid_bin = np.array(valid_y).argmax(axis=1)\n",
    "valid_acc = (valid_bin==valid_pred).mean()"
   ]
  },
  {
   "cell_type": "code",
   "execution_count": 65,
   "metadata": {},
   "outputs": [],
   "source": [
    "all_prob = model.predict(counts)\n",
    "android_prob = all_prob[:, 1]\n",
    "androidy = list(tweets['text'].iloc[android_prob.argsort()[::-1]])"
   ]
  },
  {
   "cell_type": "code",
   "execution_count": null,
   "metadata": {},
   "outputs": [],
   "source": []
  }
 ],
 "metadata": {
  "kernelspec": {
   "display_name": "Python 3",
   "language": "python",
   "name": "python3"
  },
  "language_info": {
   "codemirror_mode": {
    "name": "ipython",
    "version": 3
   },
   "file_extension": ".py",
   "mimetype": "text/x-python",
   "name": "python",
   "nbconvert_exporter": "python",
   "pygments_lexer": "ipython3",
   "version": "3.6.2"
  }
 },
 "nbformat": 4,
 "nbformat_minor": 2
}
